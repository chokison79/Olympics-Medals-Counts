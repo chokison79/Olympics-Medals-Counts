{
 "cells": [
  {
   "cell_type": "markdown",
   "id": "969d698f",
   "metadata": {},
   "source": [
    "### 1. Import packages"
   ]
  },
  {
   "cell_type": "code",
   "execution_count": 1,
   "id": "330994c6",
   "metadata": {},
   "outputs": [],
   "source": [
    "# Dependencies\n",
    "\n",
    "#!pip install seaborn\n",
    "\n",
    "import pandas as pd\n",
    "import matplotlib.pyplot as plt\n",
    "import numpy as np\n",
    "import seaborn as sns\n"
   ]
  },
  {
   "cell_type": "markdown",
   "id": "4430b010",
   "metadata": {},
   "source": [
    "### 2. Define data"
   ]
  },
  {
   "cell_type": "code",
   "execution_count": 23,
   "id": "36334626",
   "metadata": {},
   "outputs": [],
   "source": [
    "# Import datasets\n",
    "\n",
    "summer_raw = pd.read_csv(\"../Resources/summer.csv\")\n",
    "winter_raw = pd.read_csv(\"../Resources/winter.csv\")\n"
   ]
  },
  {
   "cell_type": "code",
   "execution_count": 24,
   "id": "37e674cb",
   "metadata": {},
   "outputs": [
    {
     "data": {
      "text/html": [
       "<div>\n",
       "<style scoped>\n",
       "    .dataframe tbody tr th:only-of-type {\n",
       "        vertical-align: middle;\n",
       "    }\n",
       "\n",
       "    .dataframe tbody tr th {\n",
       "        vertical-align: top;\n",
       "    }\n",
       "\n",
       "    .dataframe thead th {\n",
       "        text-align: right;\n",
       "    }\n",
       "</style>\n",
       "<table border=\"1\" class=\"dataframe\">\n",
       "  <thead>\n",
       "    <tr style=\"text-align: right;\">\n",
       "      <th></th>\n",
       "      <th>Year</th>\n",
       "      <th>City</th>\n",
       "      <th>Sport</th>\n",
       "      <th>Discipline</th>\n",
       "      <th>Athlete</th>\n",
       "      <th>Country</th>\n",
       "      <th>Gender</th>\n",
       "      <th>Event</th>\n",
       "      <th>Medal</th>\n",
       "    </tr>\n",
       "  </thead>\n",
       "  <tbody>\n",
       "    <tr>\n",
       "      <th>0</th>\n",
       "      <td>1896</td>\n",
       "      <td>Athens</td>\n",
       "      <td>Aquatics</td>\n",
       "      <td>Swimming</td>\n",
       "      <td>HAJOS, Alfred</td>\n",
       "      <td>HUN</td>\n",
       "      <td>Men</td>\n",
       "      <td>100M Freestyle</td>\n",
       "      <td>Gold</td>\n",
       "    </tr>\n",
       "    <tr>\n",
       "      <th>1</th>\n",
       "      <td>1896</td>\n",
       "      <td>Athens</td>\n",
       "      <td>Aquatics</td>\n",
       "      <td>Swimming</td>\n",
       "      <td>HERSCHMANN, Otto</td>\n",
       "      <td>AUT</td>\n",
       "      <td>Men</td>\n",
       "      <td>100M Freestyle</td>\n",
       "      <td>Silver</td>\n",
       "    </tr>\n",
       "    <tr>\n",
       "      <th>2</th>\n",
       "      <td>1896</td>\n",
       "      <td>Athens</td>\n",
       "      <td>Aquatics</td>\n",
       "      <td>Swimming</td>\n",
       "      <td>DRIVAS, Dimitrios</td>\n",
       "      <td>GRE</td>\n",
       "      <td>Men</td>\n",
       "      <td>100M Freestyle For Sailors</td>\n",
       "      <td>Bronze</td>\n",
       "    </tr>\n",
       "    <tr>\n",
       "      <th>3</th>\n",
       "      <td>1896</td>\n",
       "      <td>Athens</td>\n",
       "      <td>Aquatics</td>\n",
       "      <td>Swimming</td>\n",
       "      <td>MALOKINIS, Ioannis</td>\n",
       "      <td>GRE</td>\n",
       "      <td>Men</td>\n",
       "      <td>100M Freestyle For Sailors</td>\n",
       "      <td>Gold</td>\n",
       "    </tr>\n",
       "    <tr>\n",
       "      <th>4</th>\n",
       "      <td>1896</td>\n",
       "      <td>Athens</td>\n",
       "      <td>Aquatics</td>\n",
       "      <td>Swimming</td>\n",
       "      <td>CHASAPIS, Spiridon</td>\n",
       "      <td>GRE</td>\n",
       "      <td>Men</td>\n",
       "      <td>100M Freestyle For Sailors</td>\n",
       "      <td>Silver</td>\n",
       "    </tr>\n",
       "    <tr>\n",
       "      <th>5</th>\n",
       "      <td>1896</td>\n",
       "      <td>Athens</td>\n",
       "      <td>Aquatics</td>\n",
       "      <td>Swimming</td>\n",
       "      <td>CHOROPHAS, Efstathios</td>\n",
       "      <td>GRE</td>\n",
       "      <td>Men</td>\n",
       "      <td>1200M Freestyle</td>\n",
       "      <td>Bronze</td>\n",
       "    </tr>\n",
       "    <tr>\n",
       "      <th>6</th>\n",
       "      <td>1896</td>\n",
       "      <td>Athens</td>\n",
       "      <td>Aquatics</td>\n",
       "      <td>Swimming</td>\n",
       "      <td>HAJOS, Alfred</td>\n",
       "      <td>HUN</td>\n",
       "      <td>Men</td>\n",
       "      <td>1200M Freestyle</td>\n",
       "      <td>Gold</td>\n",
       "    </tr>\n",
       "    <tr>\n",
       "      <th>7</th>\n",
       "      <td>1896</td>\n",
       "      <td>Athens</td>\n",
       "      <td>Aquatics</td>\n",
       "      <td>Swimming</td>\n",
       "      <td>ANDREOU, Joannis</td>\n",
       "      <td>GRE</td>\n",
       "      <td>Men</td>\n",
       "      <td>1200M Freestyle</td>\n",
       "      <td>Silver</td>\n",
       "    </tr>\n",
       "    <tr>\n",
       "      <th>8</th>\n",
       "      <td>1896</td>\n",
       "      <td>Athens</td>\n",
       "      <td>Aquatics</td>\n",
       "      <td>Swimming</td>\n",
       "      <td>CHOROPHAS, Efstathios</td>\n",
       "      <td>GRE</td>\n",
       "      <td>Men</td>\n",
       "      <td>400M Freestyle</td>\n",
       "      <td>Bronze</td>\n",
       "    </tr>\n",
       "    <tr>\n",
       "      <th>9</th>\n",
       "      <td>1896</td>\n",
       "      <td>Athens</td>\n",
       "      <td>Aquatics</td>\n",
       "      <td>Swimming</td>\n",
       "      <td>NEUMANN, Paul</td>\n",
       "      <td>AUT</td>\n",
       "      <td>Men</td>\n",
       "      <td>400M Freestyle</td>\n",
       "      <td>Gold</td>\n",
       "    </tr>\n",
       "  </tbody>\n",
       "</table>\n",
       "</div>"
      ],
      "text/plain": [
       "   Year    City     Sport Discipline                Athlete Country Gender  \\\n",
       "0  1896  Athens  Aquatics   Swimming          HAJOS, Alfred     HUN    Men   \n",
       "1  1896  Athens  Aquatics   Swimming       HERSCHMANN, Otto     AUT    Men   \n",
       "2  1896  Athens  Aquatics   Swimming      DRIVAS, Dimitrios     GRE    Men   \n",
       "3  1896  Athens  Aquatics   Swimming     MALOKINIS, Ioannis     GRE    Men   \n",
       "4  1896  Athens  Aquatics   Swimming     CHASAPIS, Spiridon     GRE    Men   \n",
       "5  1896  Athens  Aquatics   Swimming  CHOROPHAS, Efstathios     GRE    Men   \n",
       "6  1896  Athens  Aquatics   Swimming          HAJOS, Alfred     HUN    Men   \n",
       "7  1896  Athens  Aquatics   Swimming       ANDREOU, Joannis     GRE    Men   \n",
       "8  1896  Athens  Aquatics   Swimming  CHOROPHAS, Efstathios     GRE    Men   \n",
       "9  1896  Athens  Aquatics   Swimming          NEUMANN, Paul     AUT    Men   \n",
       "\n",
       "                        Event   Medal  \n",
       "0              100M Freestyle    Gold  \n",
       "1              100M Freestyle  Silver  \n",
       "2  100M Freestyle For Sailors  Bronze  \n",
       "3  100M Freestyle For Sailors    Gold  \n",
       "4  100M Freestyle For Sailors  Silver  \n",
       "5             1200M Freestyle  Bronze  \n",
       "6             1200M Freestyle    Gold  \n",
       "7             1200M Freestyle  Silver  \n",
       "8              400M Freestyle  Bronze  \n",
       "9              400M Freestyle    Gold  "
      ]
     },
     "execution_count": 24,
     "metadata": {},
     "output_type": "execute_result"
    }
   ],
   "source": [
    "summer_df = summer_raw\n",
    "\n",
    "# Print first rows\n",
    "summer_df.head(10)\n",
    "\n"
   ]
  },
  {
   "cell_type": "code",
   "execution_count": 25,
   "id": "3c4d3889",
   "metadata": {
    "scrolled": true
   },
   "outputs": [
    {
     "data": {
      "text/html": [
       "<div>\n",
       "<style scoped>\n",
       "    .dataframe tbody tr th:only-of-type {\n",
       "        vertical-align: middle;\n",
       "    }\n",
       "\n",
       "    .dataframe tbody tr th {\n",
       "        vertical-align: top;\n",
       "    }\n",
       "\n",
       "    .dataframe thead th {\n",
       "        text-align: right;\n",
       "    }\n",
       "</style>\n",
       "<table border=\"1\" class=\"dataframe\">\n",
       "  <thead>\n",
       "    <tr style=\"text-align: right;\">\n",
       "      <th></th>\n",
       "      <th>Year</th>\n",
       "      <th>City</th>\n",
       "      <th>Sport</th>\n",
       "      <th>Discipline</th>\n",
       "      <th>Athlete</th>\n",
       "      <th>Country</th>\n",
       "      <th>Gender</th>\n",
       "      <th>Event</th>\n",
       "      <th>Medal</th>\n",
       "    </tr>\n",
       "  </thead>\n",
       "  <tbody>\n",
       "    <tr>\n",
       "      <th>0</th>\n",
       "      <td>1896</td>\n",
       "      <td>Athens</td>\n",
       "      <td>Aquatics</td>\n",
       "      <td>Swimming</td>\n",
       "      <td>HAJOS, Alfred</td>\n",
       "      <td>HUN</td>\n",
       "      <td>Men</td>\n",
       "      <td>100M Freestyle</td>\n",
       "      <td>Gold</td>\n",
       "    </tr>\n",
       "    <tr>\n",
       "      <th>1</th>\n",
       "      <td>1896</td>\n",
       "      <td>Athens</td>\n",
       "      <td>Aquatics</td>\n",
       "      <td>Swimming</td>\n",
       "      <td>HERSCHMANN, Otto</td>\n",
       "      <td>AUT</td>\n",
       "      <td>Men</td>\n",
       "      <td>100M Freestyle</td>\n",
       "      <td>Silver</td>\n",
       "    </tr>\n",
       "    <tr>\n",
       "      <th>2</th>\n",
       "      <td>1896</td>\n",
       "      <td>Athens</td>\n",
       "      <td>Aquatics</td>\n",
       "      <td>Swimming</td>\n",
       "      <td>DRIVAS, Dimitrios</td>\n",
       "      <td>GRE</td>\n",
       "      <td>Men</td>\n",
       "      <td>100M Freestyle For Sailors</td>\n",
       "      <td>Bronze</td>\n",
       "    </tr>\n",
       "    <tr>\n",
       "      <th>3</th>\n",
       "      <td>1896</td>\n",
       "      <td>Athens</td>\n",
       "      <td>Aquatics</td>\n",
       "      <td>Swimming</td>\n",
       "      <td>MALOKINIS, Ioannis</td>\n",
       "      <td>GRE</td>\n",
       "      <td>Men</td>\n",
       "      <td>100M Freestyle For Sailors</td>\n",
       "      <td>Gold</td>\n",
       "    </tr>\n",
       "    <tr>\n",
       "      <th>4</th>\n",
       "      <td>1896</td>\n",
       "      <td>Athens</td>\n",
       "      <td>Aquatics</td>\n",
       "      <td>Swimming</td>\n",
       "      <td>CHASAPIS, Spiridon</td>\n",
       "      <td>GRE</td>\n",
       "      <td>Men</td>\n",
       "      <td>100M Freestyle For Sailors</td>\n",
       "      <td>Silver</td>\n",
       "    </tr>\n",
       "    <tr>\n",
       "      <th>...</th>\n",
       "      <td>...</td>\n",
       "      <td>...</td>\n",
       "      <td>...</td>\n",
       "      <td>...</td>\n",
       "      <td>...</td>\n",
       "      <td>...</td>\n",
       "      <td>...</td>\n",
       "      <td>...</td>\n",
       "      <td>...</td>\n",
       "    </tr>\n",
       "    <tr>\n",
       "      <th>146</th>\n",
       "      <td>1896</td>\n",
       "      <td>Athens</td>\n",
       "      <td>Weightlifting</td>\n",
       "      <td>Weightlifting</td>\n",
       "      <td>JENSEN, Viggo</td>\n",
       "      <td>DEN</td>\n",
       "      <td>Men</td>\n",
       "      <td>Heavyweight - Two Hand Lift</td>\n",
       "      <td>Gold</td>\n",
       "    </tr>\n",
       "    <tr>\n",
       "      <th>147</th>\n",
       "      <td>1896</td>\n",
       "      <td>Athens</td>\n",
       "      <td>Weightlifting</td>\n",
       "      <td>Weightlifting</td>\n",
       "      <td>ELLIOTT, Launceston</td>\n",
       "      <td>GBR</td>\n",
       "      <td>Men</td>\n",
       "      <td>Heavyweight - Two Hand Lift</td>\n",
       "      <td>Silver</td>\n",
       "    </tr>\n",
       "    <tr>\n",
       "      <th>148</th>\n",
       "      <td>1896</td>\n",
       "      <td>Athens</td>\n",
       "      <td>Wrestling</td>\n",
       "      <td>Wrestling Gre-R</td>\n",
       "      <td>CHRISTOPOULOS, Stephanos</td>\n",
       "      <td>GRE</td>\n",
       "      <td>Men</td>\n",
       "      <td>Open Event</td>\n",
       "      <td>Bronze</td>\n",
       "    </tr>\n",
       "    <tr>\n",
       "      <th>149</th>\n",
       "      <td>1896</td>\n",
       "      <td>Athens</td>\n",
       "      <td>Wrestling</td>\n",
       "      <td>Wrestling Gre-R</td>\n",
       "      <td>SCHUMANN, Carl</td>\n",
       "      <td>GER</td>\n",
       "      <td>Men</td>\n",
       "      <td>Open Event</td>\n",
       "      <td>Gold</td>\n",
       "    </tr>\n",
       "    <tr>\n",
       "      <th>150</th>\n",
       "      <td>1896</td>\n",
       "      <td>Athens</td>\n",
       "      <td>Wrestling</td>\n",
       "      <td>Wrestling Gre-R</td>\n",
       "      <td>TSITAS, Georgios</td>\n",
       "      <td>GRE</td>\n",
       "      <td>Men</td>\n",
       "      <td>Open Event</td>\n",
       "      <td>Silver</td>\n",
       "    </tr>\n",
       "  </tbody>\n",
       "</table>\n",
       "<p>151 rows × 9 columns</p>\n",
       "</div>"
      ],
      "text/plain": [
       "     Year    City          Sport       Discipline                   Athlete  \\\n",
       "0    1896  Athens       Aquatics         Swimming             HAJOS, Alfred   \n",
       "1    1896  Athens       Aquatics         Swimming          HERSCHMANN, Otto   \n",
       "2    1896  Athens       Aquatics         Swimming         DRIVAS, Dimitrios   \n",
       "3    1896  Athens       Aquatics         Swimming        MALOKINIS, Ioannis   \n",
       "4    1896  Athens       Aquatics         Swimming        CHASAPIS, Spiridon   \n",
       "..    ...     ...            ...              ...                       ...   \n",
       "146  1896  Athens  Weightlifting    Weightlifting             JENSEN, Viggo   \n",
       "147  1896  Athens  Weightlifting    Weightlifting       ELLIOTT, Launceston   \n",
       "148  1896  Athens      Wrestling  Wrestling Gre-R  CHRISTOPOULOS, Stephanos   \n",
       "149  1896  Athens      Wrestling  Wrestling Gre-R            SCHUMANN, Carl   \n",
       "150  1896  Athens      Wrestling  Wrestling Gre-R          TSITAS, Georgios   \n",
       "\n",
       "    Country Gender                        Event   Medal  \n",
       "0       HUN    Men               100M Freestyle    Gold  \n",
       "1       AUT    Men               100M Freestyle  Silver  \n",
       "2       GRE    Men   100M Freestyle For Sailors  Bronze  \n",
       "3       GRE    Men   100M Freestyle For Sailors    Gold  \n",
       "4       GRE    Men   100M Freestyle For Sailors  Silver  \n",
       "..      ...    ...                          ...     ...  \n",
       "146     DEN    Men  Heavyweight - Two Hand Lift    Gold  \n",
       "147     GBR    Men  Heavyweight - Two Hand Lift  Silver  \n",
       "148     GRE    Men                   Open Event  Bronze  \n",
       "149     GER    Men                   Open Event    Gold  \n",
       "150     GRE    Men                   Open Event  Silver  \n",
       "\n",
       "[151 rows x 9 columns]"
      ]
     },
     "execution_count": 25,
     "metadata": {},
     "output_type": "execute_result"
    }
   ],
   "source": [
    "Summer_1896 = summer_df.loc[summer_raw[\"Year\"] == 1896]\n",
    "Summer_1896"
   ]
  },
  {
   "cell_type": "markdown",
   "id": "99e9f4d8",
   "metadata": {},
   "source": [
    "### 3. 1896 Summer Olympics"
   ]
  },
  {
   "cell_type": "code",
   "execution_count": 26,
   "id": "b56aaded",
   "metadata": {
    "scrolled": true
   },
   "outputs": [
    {
     "data": {
      "text/html": [
       "<div>\n",
       "<style scoped>\n",
       "    .dataframe tbody tr th:only-of-type {\n",
       "        vertical-align: middle;\n",
       "    }\n",
       "\n",
       "    .dataframe tbody tr th {\n",
       "        vertical-align: top;\n",
       "    }\n",
       "\n",
       "    .dataframe thead th {\n",
       "        text-align: right;\n",
       "    }\n",
       "</style>\n",
       "<table border=\"1\" class=\"dataframe\">\n",
       "  <thead>\n",
       "    <tr style=\"text-align: right;\">\n",
       "      <th></th>\n",
       "      <th>Total Medals</th>\n",
       "    </tr>\n",
       "  </thead>\n",
       "  <tbody>\n",
       "    <tr>\n",
       "      <th>GRE</th>\n",
       "      <td>52</td>\n",
       "    </tr>\n",
       "    <tr>\n",
       "      <th>GER</th>\n",
       "      <td>33</td>\n",
       "    </tr>\n",
       "    <tr>\n",
       "      <th>USA</th>\n",
       "      <td>20</td>\n",
       "    </tr>\n",
       "    <tr>\n",
       "      <th>FRA</th>\n",
       "      <td>11</td>\n",
       "    </tr>\n",
       "    <tr>\n",
       "      <th>GBR</th>\n",
       "      <td>7</td>\n",
       "    </tr>\n",
       "    <tr>\n",
       "      <th>HUN</th>\n",
       "      <td>6</td>\n",
       "    </tr>\n",
       "    <tr>\n",
       "      <th>DEN</th>\n",
       "      <td>6</td>\n",
       "    </tr>\n",
       "    <tr>\n",
       "      <th>ZZX</th>\n",
       "      <td>6</td>\n",
       "    </tr>\n",
       "    <tr>\n",
       "      <th>AUT</th>\n",
       "      <td>5</td>\n",
       "    </tr>\n",
       "    <tr>\n",
       "      <th>SUI</th>\n",
       "      <td>3</td>\n",
       "    </tr>\n",
       "  </tbody>\n",
       "</table>\n",
       "</div>"
      ],
      "text/plain": [
       "     Total Medals\n",
       "GRE            52\n",
       "GER            33\n",
       "USA            20\n",
       "FRA            11\n",
       "GBR             7\n",
       "HUN             6\n",
       "DEN             6\n",
       "ZZX             6\n",
       "AUT             5\n",
       "SUI             3"
      ]
     },
     "execution_count": 26,
     "metadata": {},
     "output_type": "execute_result"
    }
   ],
   "source": [
    "Medals_1896 =Summer_1896[\"Country\"].value_counts()\n",
    "\n",
    "summary_1896_df = pd.DataFrame({\"Total Medals\": Medals_1896})\n",
    "summary_1896_df.head(10)"
   ]
  },
  {
   "cell_type": "code",
   "execution_count": 115,
   "id": "d32cc2a8",
   "metadata": {},
   "outputs": [
    {
     "data": {
      "text/plain": [
       "<BarContainer object of 10 artists>"
      ]
     },
     "execution_count": 115,
     "metadata": {},
     "output_type": "execute_result"
    },
    {
     "data": {
      "image/png": "[encoded data removed]",
      "text/plain": [
       "<Figure size 864x432 with 1 Axes>"
      ]
     },
     "metadata": {
      "needs_background": "light"
     },
     "output_type": "display_data"
    }
   ],
   "source": [
    "# Create an array that contains the number of medals each Country has\n",
    "Medals = [52, 33, 20, 11, 7, 6, 6, 6, 5, 3]\n",
    "x_axis = (\"GRE\", \"GER\", \"USA\", \"FRA\", \"GBR\", \"HUN\", \"DEN\", \"ZZX\", \"AUT\", \"SUI\")\n",
    "\n",
    "plt.figure(figsize = (12,6))\n",
    "\n",
    "#Adding titles to the chart\n",
    "plt.title(\"1896 SUMMER OLYMPICS - TOP TEN COUNTRIES\")\n",
    "plt.xlabel(\"COUNTRIES\")\n",
    "plt.ylabel(\"MEDALS\")\n",
    "\n",
    "plt.bar(x_axis, Medals, color='r', alpha=0.5, align=\"center\")"
   ]
  },
  {
   "cell_type": "markdown",
   "id": "dbb1fbf4",
   "metadata": {},
   "source": [
    "### 4. 1900 Summer Olympics"
   ]
  },
  {
   "cell_type": "code",
   "execution_count": 34,
   "id": "5566cf18",
   "metadata": {},
   "outputs": [
    {
     "data": {
      "text/html": [
       "<div>\n",
       "<style scoped>\n",
       "    .dataframe tbody tr th:only-of-type {\n",
       "        vertical-align: middle;\n",
       "    }\n",
       "\n",
       "    .dataframe tbody tr th {\n",
       "        vertical-align: top;\n",
       "    }\n",
       "\n",
       "    .dataframe thead th {\n",
       "        text-align: right;\n",
       "    }\n",
       "</style>\n",
       "<table border=\"1\" class=\"dataframe\">\n",
       "  <thead>\n",
       "    <tr style=\"text-align: right;\">\n",
       "      <th></th>\n",
       "      <th>Total Medals</th>\n",
       "    </tr>\n",
       "  </thead>\n",
       "  <tbody>\n",
       "    <tr>\n",
       "      <th>FRA</th>\n",
       "      <td>185</td>\n",
       "    </tr>\n",
       "    <tr>\n",
       "      <th>GBR</th>\n",
       "      <td>78</td>\n",
       "    </tr>\n",
       "    <tr>\n",
       "      <th>USA</th>\n",
       "      <td>55</td>\n",
       "    </tr>\n",
       "    <tr>\n",
       "      <th>GER</th>\n",
       "      <td>40</td>\n",
       "    </tr>\n",
       "    <tr>\n",
       "      <th>BEL</th>\n",
       "      <td>39</td>\n",
       "    </tr>\n",
       "    <tr>\n",
       "      <th>ZZX</th>\n",
       "      <td>34</td>\n",
       "    </tr>\n",
       "    <tr>\n",
       "      <th>NED</th>\n",
       "      <td>20</td>\n",
       "    </tr>\n",
       "    <tr>\n",
       "      <th>SUI</th>\n",
       "      <td>15</td>\n",
       "    </tr>\n",
       "    <tr>\n",
       "      <th>NOR</th>\n",
       "      <td>9</td>\n",
       "    </tr>\n",
       "    <tr>\n",
       "      <th>DEN</th>\n",
       "      <td>6</td>\n",
       "    </tr>\n",
       "  </tbody>\n",
       "</table>\n",
       "</div>"
      ],
      "text/plain": [
       "     Total Medals\n",
       "FRA           185\n",
       "GBR            78\n",
       "USA            55\n",
       "GER            40\n",
       "BEL            39\n",
       "ZZX            34\n",
       "NED            20\n",
       "SUI            15\n",
       "NOR             9\n",
       "DEN             6"
      ]
     },
     "execution_count": 34,
     "metadata": {},
     "output_type": "execute_result"
    }
   ],
   "source": [
    "Summer_1900 = summer_df.loc[summer_raw[\"Year\"] == 1900]\n",
    "\n",
    "Medals_1900 =Summer_1900[\"Country\"].value_counts()\n",
    "\n",
    "summary_1900_df = pd.DataFrame({\"Total Medals\": Medals_1900})\n",
    "summary_1900_df.head(10)"
   ]
  },
  {
   "cell_type": "code",
   "execution_count": 59,
   "id": "4d888eb6",
   "metadata": {},
   "outputs": [],
   "source": [
    "# Create an array that contains the number of medals each Country has\n",
    "Medals = [185, 78, 55, 40, 39, 34, 20, 15, 9, 6]\n",
    "x_axis = (\"FRA\", \"GBR\", \"USA\", \"GER\", \"BEL\", \"ZZX\", \"NED\", \"SUI\", \"NOR\", \"AUT\")\n"
   ]
  },
  {
   "cell_type": "code",
   "execution_count": 116,
   "id": "6459e818",
   "metadata": {},
   "outputs": [
    {
     "data": {
      "text/plain": [
       "<BarContainer object of 10 artists>"
      ]
     },
     "execution_count": 116,
     "metadata": {},
     "output_type": "execute_result"
    },
    {
     "data": {
      "image/png": "[encoded data removed]",
      "text/plain": [
       "<Figure size 864x432 with 1 Axes>"
      ]
     },
     "metadata": {
      "needs_background": "light"
     },
     "output_type": "display_data"
    }
   ],
   "source": [
    "plt.figure(figsize = (12,6))\n",
    "\n",
    "#Adding titles to the chart\n",
    "plt.title(\"1900 SUMMER OLYMPICS - TOP TEN COUNTRIES\")\n",
    "plt.xlabel(\"COUNTRIES\")\n",
    "plt.ylabel(\"MEDALS\")\n",
    "\n",
    "plt.bar(x_axis, Medals, color='b', alpha=0.5, align=\"center\")"
   ]
  },
  {
   "cell_type": "markdown",
   "id": "d7562061",
   "metadata": {},
   "source": [
    "### 5. 1904 Summer Olympics"
   ]
  },
  {
   "cell_type": "code",
   "execution_count": 63,
   "id": "8b6db86c",
   "metadata": {},
   "outputs": [
    {
     "data": {
      "text/html": [
       "<div>\n",
       "<style scoped>\n",
       "    .dataframe tbody tr th:only-of-type {\n",
       "        vertical-align: middle;\n",
       "    }\n",
       "\n",
       "    .dataframe tbody tr th {\n",
       "        vertical-align: top;\n",
       "    }\n",
       "\n",
       "    .dataframe thead th {\n",
       "        text-align: right;\n",
       "    }\n",
       "</style>\n",
       "<table border=\"1\" class=\"dataframe\">\n",
       "  <thead>\n",
       "    <tr style=\"text-align: right;\">\n",
       "      <th></th>\n",
       "      <th>Total Medals</th>\n",
       "    </tr>\n",
       "  </thead>\n",
       "  <tbody>\n",
       "    <tr>\n",
       "      <th>USA</th>\n",
       "      <td>394</td>\n",
       "    </tr>\n",
       "    <tr>\n",
       "      <th>CAN</th>\n",
       "      <td>35</td>\n",
       "    </tr>\n",
       "    <tr>\n",
       "      <th>GER</th>\n",
       "      <td>13</td>\n",
       "    </tr>\n",
       "    <tr>\n",
       "      <th>CUB</th>\n",
       "      <td>9</td>\n",
       "    </tr>\n",
       "    <tr>\n",
       "      <th>ZZX</th>\n",
       "      <td>8</td>\n",
       "    </tr>\n",
       "    <tr>\n",
       "      <th>HUN</th>\n",
       "      <td>4</td>\n",
       "    </tr>\n",
       "    <tr>\n",
       "      <th>GRE</th>\n",
       "      <td>2</td>\n",
       "    </tr>\n",
       "    <tr>\n",
       "      <th>SUI</th>\n",
       "      <td>2</td>\n",
       "    </tr>\n",
       "    <tr>\n",
       "      <th>GBR</th>\n",
       "      <td>2</td>\n",
       "    </tr>\n",
       "    <tr>\n",
       "      <th>AUT</th>\n",
       "      <td>1</td>\n",
       "    </tr>\n",
       "  </tbody>\n",
       "</table>\n",
       "</div>"
      ],
      "text/plain": [
       "     Total Medals\n",
       "USA           394\n",
       "CAN            35\n",
       "GER            13\n",
       "CUB             9\n",
       "ZZX             8\n",
       "HUN             4\n",
       "GRE             2\n",
       "SUI             2\n",
       "GBR             2\n",
       "AUT             1"
      ]
     },
     "execution_count": 63,
     "metadata": {},
     "output_type": "execute_result"
    }
   ],
   "source": [
    "Summer_1904 = summer_df.loc[summer_raw[\"Year\"] == 1904]\n",
    "\n",
    "Medals_1904 =Summer_1904[\"Country\"].value_counts()\n",
    "\n",
    "summary_1904_df = pd.DataFrame({\"Total Medals\": Medals_1904})\n",
    "summary_1904_df.head(10)"
   ]
  },
  {
   "cell_type": "code",
   "execution_count": 117,
   "id": "9b86541c",
   "metadata": {},
   "outputs": [
    {
     "data": {
      "text/plain": [
       "<BarContainer object of 10 artists>"
      ]
     },
     "execution_count": 117,
     "metadata": {},
     "output_type": "execute_result"
    },
    {
     "data": {
      "image/png": "[encoded data removed]",
      "text/plain": [
       "<Figure size 864x432 with 1 Axes>"
      ]
     },
     "metadata": {
      "needs_background": "light"
     },
     "output_type": "display_data"
    }
   ],
   "source": [
    "# Create an array that contains the number of medals each Country has\n",
    "Medals = [394, 35, 13, 9, 8, 4, 2, 2, 2, 1]\n",
    "x_axis = (\"USA\", \"CAN\", \"GER\", \"CUB\", \"ZZX\", \"HUN\", \"SUI\", \"GRE\", \"CUB\", \"GBR\")\n",
    "\n",
    "plt.figure(figsize = (12,6))\n",
    "\n",
    "#Adding titles to the chart\n",
    "plt.title(\"1904 SUMMER OLYMPICS - TOP TEN COUNTRIES\")\n",
    "plt.xlabel(\"COUNTRIES\")\n",
    "plt.ylabel(\"MEDALS\")\n",
    "\n",
    "plt.bar(x_axis, Medals, color='r', alpha=0.5, align=\"center\")\n"
   ]
  },
  {
   "cell_type": "markdown",
   "id": "ed8f13a3",
   "metadata": {},
   "source": [
    "### 6. 1908 Summer Olympics"
   ]
  },
  {
   "cell_type": "code",
   "execution_count": 86,
   "id": "f76e0e9b",
   "metadata": {},
   "outputs": [
    {
     "data": {
      "text/html": [
       "<div>\n",
       "<style scoped>\n",
       "    .dataframe tbody tr th:only-of-type {\n",
       "        vertical-align: middle;\n",
       "    }\n",
       "\n",
       "    .dataframe tbody tr th {\n",
       "        vertical-align: top;\n",
       "    }\n",
       "\n",
       "    .dataframe thead th {\n",
       "        text-align: right;\n",
       "    }\n",
       "</style>\n",
       "<table border=\"1\" class=\"dataframe\">\n",
       "  <thead>\n",
       "    <tr style=\"text-align: right;\">\n",
       "      <th></th>\n",
       "      <th>Total Medals</th>\n",
       "    </tr>\n",
       "  </thead>\n",
       "  <tbody>\n",
       "    <tr>\n",
       "      <th>GBR</th>\n",
       "      <td>347</td>\n",
       "    </tr>\n",
       "    <tr>\n",
       "      <th>SWE</th>\n",
       "      <td>98</td>\n",
       "    </tr>\n",
       "    <tr>\n",
       "      <th>USA</th>\n",
       "      <td>63</td>\n",
       "    </tr>\n",
       "    <tr>\n",
       "      <th>CAN</th>\n",
       "      <td>51</td>\n",
       "    </tr>\n",
       "    <tr>\n",
       "      <th>NOR</th>\n",
       "      <td>44</td>\n",
       "    </tr>\n",
       "    <tr>\n",
       "      <th>FRA</th>\n",
       "      <td>35</td>\n",
       "    </tr>\n",
       "    <tr>\n",
       "      <th>BEL</th>\n",
       "      <td>31</td>\n",
       "    </tr>\n",
       "    <tr>\n",
       "      <th>FIN</th>\n",
       "      <td>29</td>\n",
       "    </tr>\n",
       "    <tr>\n",
       "      <th>GER</th>\n",
       "      <td>22</td>\n",
       "    </tr>\n",
       "    <tr>\n",
       "      <th>ANZ</th>\n",
       "      <td>19</td>\n",
       "    </tr>\n",
       "  </tbody>\n",
       "</table>\n",
       "</div>"
      ],
      "text/plain": [
       "     Total Medals\n",
       "GBR           347\n",
       "SWE            98\n",
       "USA            63\n",
       "CAN            51\n",
       "NOR            44\n",
       "FRA            35\n",
       "BEL            31\n",
       "FIN            29\n",
       "GER            22\n",
       "ANZ            19"
      ]
     },
     "execution_count": 86,
     "metadata": {},
     "output_type": "execute_result"
    }
   ],
   "source": [
    "Summer_1908 = summer_df.loc[summer_raw[\"Year\"] == 1908]\n",
    "\n",
    "Medals_1908 =Summer_1908[\"Country\"].value_counts()\n",
    "\n",
    "summary_1908_df = pd.DataFrame({\"Total Medals\": Medals_1908})\n",
    "summary_1908_df.head(10)"
   ]
  },
  {
   "cell_type": "code",
   "execution_count": 118,
   "id": "60d609c0",
   "metadata": {},
   "outputs": [
    {
     "data": {
      "text/plain": [
       "<BarContainer object of 10 artists>"
      ]
     },
     "execution_count": 118,
     "metadata": {},
     "output_type": "execute_result"
    },
    {
     "data": {
      "image/png": "[encoded data removed]",
      "text/plain": [
       "<Figure size 864x432 with 1 Axes>"
      ]
     },
     "metadata": {
      "needs_background": "light"
     },
     "output_type": "display_data"
    }
   ],
   "source": [
    "# Create an array that contains the number of medals each Country has\n",
    "Medals = [347, 98, 63, 51, 44, 35, 31, 29, 22, 19]\n",
    "x_axis = (\"GBR\", \"SWE\", \"USA\", \"CAN\", \"NOR\", \"FRA\", \"BEL\", \"FIN\", \"GER\", \"ANZ\")\n",
    "\n",
    "plt.figure(figsize = (12,6))\n",
    "\n",
    "#Adding titles to the chart\n",
    "plt.title(\"1908 SUMMER OLYMPICS - TOP TEN COUNTRIES\")\n",
    "plt.xlabel(\"COUNTRIES\")\n",
    "plt.ylabel(\"MEDALS\")\n",
    "\n",
    "plt.bar(x_axis, Medals, color='b', alpha=0.5, align=\"center\")"
   ]
  },
  {
   "cell_type": "markdown",
   "id": "a6d0bae1",
   "metadata": {},
   "source": [
    "### 7. 1912 Summer Olympics"
   ]
  },
  {
   "cell_type": "code",
   "execution_count": 120,
   "id": "654997d2",
   "metadata": {},
   "outputs": [
    {
     "data": {
      "text/html": [
       "<div>\n",
       "<style scoped>\n",
       "    .dataframe tbody tr th:only-of-type {\n",
       "        vertical-align: middle;\n",
       "    }\n",
       "\n",
       "    .dataframe tbody tr th {\n",
       "        vertical-align: top;\n",
       "    }\n",
       "\n",
       "    .dataframe thead th {\n",
       "        text-align: right;\n",
       "    }\n",
       "</style>\n",
       "<table border=\"1\" class=\"dataframe\">\n",
       "  <thead>\n",
       "    <tr style=\"text-align: right;\">\n",
       "      <th></th>\n",
       "      <th>Total Medals</th>\n",
       "    </tr>\n",
       "  </thead>\n",
       "  <tbody>\n",
       "    <tr>\n",
       "      <th>SWE</th>\n",
       "      <td>173</td>\n",
       "    </tr>\n",
       "    <tr>\n",
       "      <th>GBR</th>\n",
       "      <td>160</td>\n",
       "    </tr>\n",
       "    <tr>\n",
       "      <th>USA</th>\n",
       "      <td>101</td>\n",
       "    </tr>\n",
       "    <tr>\n",
       "      <th>DEN</th>\n",
       "      <td>84</td>\n",
       "    </tr>\n",
       "    <tr>\n",
       "      <th>NOR</th>\n",
       "      <td>76</td>\n",
       "    </tr>\n",
       "    <tr>\n",
       "      <th>FIN</th>\n",
       "      <td>67</td>\n",
       "    </tr>\n",
       "    <tr>\n",
       "      <th>GER</th>\n",
       "      <td>52</td>\n",
       "    </tr>\n",
       "    <tr>\n",
       "      <th>HUN</th>\n",
       "      <td>30</td>\n",
       "    </tr>\n",
       "    <tr>\n",
       "      <th>FRA</th>\n",
       "      <td>25</td>\n",
       "    </tr>\n",
       "    <tr>\n",
       "      <th>NED</th>\n",
       "      <td>22</td>\n",
       "    </tr>\n",
       "  </tbody>\n",
       "</table>\n",
       "</div>"
      ],
      "text/plain": [
       "     Total Medals\n",
       "SWE           173\n",
       "GBR           160\n",
       "USA           101\n",
       "DEN            84\n",
       "NOR            76\n",
       "FIN            67\n",
       "GER            52\n",
       "HUN            30\n",
       "FRA            25\n",
       "NED            22"
      ]
     },
     "execution_count": 120,
     "metadata": {},
     "output_type": "execute_result"
    }
   ],
   "source": [
    "Summer_1912 = summer_df.loc[summer_raw[\"Year\"] == 1912]\n",
    "\n",
    "Medals_1912 =Summer_1912[\"Country\"].value_counts()\n",
    "\n",
    "summary_1912_df = pd.DataFrame({\"Total Medals\": Medals_1912})\n",
    "summary_1912_df.head(10)"
   ]
  },
  {
   "cell_type": "code",
   "execution_count": 119,
   "id": "116e89c4",
   "metadata": {},
   "outputs": [
    {
     "data": {
      "text/plain": [
       "<BarContainer object of 10 artists>"
      ]
     },
     "execution_count": 119,
     "metadata": {},
     "output_type": "execute_result"
    },
    {
     "data": {
      "image/png": "[encoded data removed]",
      "text/plain": [
       "<Figure size 864x432 with 1 Axes>"
      ]
     },
     "metadata": {
      "needs_background": "light"
     },
     "output_type": "display_data"
    }
   ],
   "source": [
    "# Create an array that contains the number of medals each Country has\n",
    "Medals = [173, 160, 101, 84, 76, 67, 52, 30, 25, 22]\n",
    "x_axis = (\"SWE\", \"GBR\", \"USA\", \"DEN\", \"NOR\", \"FIN\", \"GER\", \"HUN\", \"FRA\", \"NED\")\n",
    "\n",
    "plt.figure(figsize = (12,6))\n",
    "\n",
    "#Adding titles to the chart\n",
    "plt.title(\"1912 SUMMER OLYMPICS - TOP TEN COUNTRIES\")\n",
    "plt.xlabel(\"COUNTRIES\")\n",
    "plt.ylabel(\"MEDALS\")\n",
    "\n",
    "plt.bar(x_axis, Medals, color='r', alpha=0.5, align=\"center\")"
   ]
  },
  {
   "cell_type": "markdown",
   "id": "8d29fcee",
   "metadata": {},
   "source": [
    "### 8. 1920 Summer Olympics"
   ]
  },
  {
   "cell_type": "code",
   "execution_count": 88,
   "id": "17e3be14",
   "metadata": {},
   "outputs": [
    {
     "data": {
      "text/html": [
       "<div>\n",
       "<style scoped>\n",
       "    .dataframe tbody tr th:only-of-type {\n",
       "        vertical-align: middle;\n",
       "    }\n",
       "\n",
       "    .dataframe tbody tr th {\n",
       "        vertical-align: top;\n",
       "    }\n",
       "\n",
       "    .dataframe thead th {\n",
       "        text-align: right;\n",
       "    }\n",
       "</style>\n",
       "<table border=\"1\" class=\"dataframe\">\n",
       "  <thead>\n",
       "    <tr style=\"text-align: right;\">\n",
       "      <th></th>\n",
       "      <th>Total Medals</th>\n",
       "    </tr>\n",
       "  </thead>\n",
       "  <tbody>\n",
       "    <tr>\n",
       "      <th>USA</th>\n",
       "      <td>193</td>\n",
       "    </tr>\n",
       "    <tr>\n",
       "      <th>BEL</th>\n",
       "      <td>188</td>\n",
       "    </tr>\n",
       "    <tr>\n",
       "      <th>SWE</th>\n",
       "      <td>146</td>\n",
       "    </tr>\n",
       "    <tr>\n",
       "      <th>FRA</th>\n",
       "      <td>141</td>\n",
       "    </tr>\n",
       "    <tr>\n",
       "      <th>NOR</th>\n",
       "      <td>141</td>\n",
       "    </tr>\n",
       "    <tr>\n",
       "      <th>GBR</th>\n",
       "      <td>107</td>\n",
       "    </tr>\n",
       "    <tr>\n",
       "      <th>ITA</th>\n",
       "      <td>84</td>\n",
       "    </tr>\n",
       "    <tr>\n",
       "      <th>DEN</th>\n",
       "      <td>75</td>\n",
       "    </tr>\n",
       "    <tr>\n",
       "      <th>FIN</th>\n",
       "      <td>49</td>\n",
       "    </tr>\n",
       "    <tr>\n",
       "      <th>NED</th>\n",
       "      <td>48</td>\n",
       "    </tr>\n",
       "  </tbody>\n",
       "</table>\n",
       "</div>"
      ],
      "text/plain": [
       "     Total Medals\n",
       "USA           193\n",
       "BEL           188\n",
       "SWE           146\n",
       "FRA           141\n",
       "NOR           141\n",
       "GBR           107\n",
       "ITA            84\n",
       "DEN            75\n",
       "FIN            49\n",
       "NED            48"
      ]
     },
     "execution_count": 88,
     "metadata": {},
     "output_type": "execute_result"
    }
   ],
   "source": [
    "Summer_1920 = summer_df.loc[summer_raw[\"Year\"] == 1920]\n",
    "\n",
    "Medals_1920 =Summer_1920[\"Country\"].value_counts()\n",
    "\n",
    "summary_1920_df = pd.DataFrame({\"Total Medals\": Medals_1920})\n",
    "summary_1920_df.head(10)"
   ]
  },
  {
   "cell_type": "code",
   "execution_count": 120,
   "id": "3a3be6b9",
   "metadata": {},
   "outputs": [
    {
     "data": {
      "text/plain": [
       "<BarContainer object of 10 artists>"
      ]
     },
     "execution_count": 120,
     "metadata": {},
     "output_type": "execute_result"
    },
    {
     "data": {
      "image/png": "[encoded data removed]",
      "text/plain": [
       "<Figure size 864x432 with 1 Axes>"
      ]
     },
     "metadata": {
      "needs_background": "light"
     },
     "output_type": "display_data"
    }
   ],
   "source": [
    "# Create an array that contains the number of medals each Country has\n",
    "Medals = [193, 188, 146, 141, 141, 107, 84, 75, 49, 48]\n",
    "x_axis = (\"USA\", \"BEL\", \"SWE\", \"FRA\", \"NOR\", \"GBR\", \"ITA\", \"DEN\", \"FIN\", \"NED\")\n",
    "\n",
    "plt.figure(figsize = (12,6))\n",
    "\n",
    "#Adding titles to the chart\n",
    "plt.title(\"1920 SUMMER OLYMPICS - TOP TEN COUNTRIES\")\n",
    "plt.xlabel(\"COUNTRIES\")\n",
    "plt.ylabel(\"MEDALS\")\n",
    "\n",
    "plt.bar(x_axis, Medals, color='b', alpha=0.5, align=\"center\")"
   ]
  },
  {
   "cell_type": "markdown",
   "id": "454cf563",
   "metadata": {},
   "source": [
    "### 9. 1924 Summer Olympics"
   ]
  },
  {
   "cell_type": "code",
   "execution_count": 45,
   "id": "7eabdddd",
   "metadata": {},
   "outputs": [
    {
     "data": {
      "text/html": [
       "<div>\n",
       "<style scoped>\n",
       "    .dataframe tbody tr th:only-of-type {\n",
       "        vertical-align: middle;\n",
       "    }\n",
       "\n",
       "    .dataframe tbody tr th {\n",
       "        vertical-align: top;\n",
       "    }\n",
       "\n",
       "    .dataframe thead th {\n",
       "        text-align: right;\n",
       "    }\n",
       "</style>\n",
       "<table border=\"1\" class=\"dataframe\">\n",
       "  <thead>\n",
       "    <tr style=\"text-align: right;\">\n",
       "      <th></th>\n",
       "      <th>Total Medals</th>\n",
       "    </tr>\n",
       "  </thead>\n",
       "  <tbody>\n",
       "    <tr>\n",
       "      <th>USA</th>\n",
       "      <td>198</td>\n",
       "    </tr>\n",
       "    <tr>\n",
       "      <th>FRA</th>\n",
       "      <td>122</td>\n",
       "    </tr>\n",
       "    <tr>\n",
       "      <th>SWE</th>\n",
       "      <td>80</td>\n",
       "    </tr>\n",
       "    <tr>\n",
       "      <th>GBR</th>\n",
       "      <td>66</td>\n",
       "    </tr>\n",
       "    <tr>\n",
       "      <th>SUI</th>\n",
       "      <td>65</td>\n",
       "    </tr>\n",
       "    <tr>\n",
       "      <th>FIN</th>\n",
       "      <td>52</td>\n",
       "    </tr>\n",
       "    <tr>\n",
       "      <th>ITA</th>\n",
       "      <td>51</td>\n",
       "    </tr>\n",
       "    <tr>\n",
       "      <th>BEL</th>\n",
       "      <td>38</td>\n",
       "    </tr>\n",
       "    <tr>\n",
       "      <th>NED</th>\n",
       "      <td>26</td>\n",
       "    </tr>\n",
       "    <tr>\n",
       "      <th>NOR</th>\n",
       "      <td>26</td>\n",
       "    </tr>\n",
       "  </tbody>\n",
       "</table>\n",
       "</div>"
      ],
      "text/plain": [
       "     Total Medals\n",
       "USA           198\n",
       "FRA           122\n",
       "SWE            80\n",
       "GBR            66\n",
       "SUI            65\n",
       "FIN            52\n",
       "ITA            51\n",
       "BEL            38\n",
       "NED            26\n",
       "NOR            26"
      ]
     },
     "execution_count": 45,
     "metadata": {},
     "output_type": "execute_result"
    }
   ],
   "source": [
    "Summer_1924 =summer_df.loc[summer_raw[\"Year\"] == 1924]\n",
    "\n",
    "Medals_1924 =Summer_1924[\"Country\"].value_counts()\n",
    "\n",
    "summary_1924_df = pd.DataFrame({\"Total Medals\": Medals_1924})\n",
    "summary_1924_df.head(10)"
   ]
  },
  {
   "cell_type": "code",
   "execution_count": 121,
   "id": "f021e884",
   "metadata": {},
   "outputs": [
    {
     "data": {
      "text/plain": [
       "<BarContainer object of 10 artists>"
      ]
     },
     "execution_count": 121,
     "metadata": {},
     "output_type": "execute_result"
    },
    {
     "data": {
      "image/png": "[encoded data removed]",
      "text/plain": [
       "<Figure size 864x432 with 1 Axes>"
      ]
     },
     "metadata": {
      "needs_background": "light"
     },
     "output_type": "display_data"
    }
   ],
   "source": [
    "# Create an array that contains the number of medals each Country has\n",
    "Medals = [198, 122, 80, 66, 65, 52, 51, 38, 26, 26]\n",
    "x_axis = (\"USA\", \"FRA\", \"SWE\", \"GBR\", \"SUI\", \"FIN\", \"ITA\", \"BEL\", \"NED\", \"NOR\")\n",
    "\n",
    "plt.figure(figsize = (12,6))\n",
    "\n",
    "#Adding titles to the chart\n",
    "plt.title(\"1924 SUMMER OLYMPICS - TOP TEN COUNTRIES\")\n",
    "plt.xlabel(\"COUNTRIES\")\n",
    "plt.ylabel(\"MEDALS\")\n",
    "\n",
    "plt.bar(x_axis, Medals, color='r', alpha=0.5, align=\"center\")"
   ]
  },
  {
   "cell_type": "markdown",
   "id": "6053ee9a",
   "metadata": {},
   "source": [
    "### 10. 1928 Summer Olympics"
   ]
  },
  {
   "cell_type": "code",
   "execution_count": 90,
   "id": "22db9513",
   "metadata": {},
   "outputs": [
    {
     "data": {
      "text/html": [
       "<div>\n",
       "<style scoped>\n",
       "    .dataframe tbody tr th:only-of-type {\n",
       "        vertical-align: middle;\n",
       "    }\n",
       "\n",
       "    .dataframe tbody tr th {\n",
       "        vertical-align: top;\n",
       "    }\n",
       "\n",
       "    .dataframe thead th {\n",
       "        text-align: right;\n",
       "    }\n",
       "</style>\n",
       "<table border=\"1\" class=\"dataframe\">\n",
       "  <thead>\n",
       "    <tr style=\"text-align: right;\">\n",
       "      <th></th>\n",
       "      <th>Total Medals</th>\n",
       "    </tr>\n",
       "  </thead>\n",
       "  <tbody>\n",
       "    <tr>\n",
       "      <th>USA</th>\n",
       "      <td>84</td>\n",
       "    </tr>\n",
       "    <tr>\n",
       "      <th>GER</th>\n",
       "      <td>72</td>\n",
       "    </tr>\n",
       "    <tr>\n",
       "      <th>ITA</th>\n",
       "      <td>70</td>\n",
       "    </tr>\n",
       "    <tr>\n",
       "      <th>NED</th>\n",
       "      <td>65</td>\n",
       "    </tr>\n",
       "    <tr>\n",
       "      <th>GBR</th>\n",
       "      <td>55</td>\n",
       "    </tr>\n",
       "    <tr>\n",
       "      <th>FRA</th>\n",
       "      <td>36</td>\n",
       "    </tr>\n",
       "    <tr>\n",
       "      <th>SWE</th>\n",
       "      <td>36</td>\n",
       "    </tr>\n",
       "    <tr>\n",
       "      <th>CAN</th>\n",
       "      <td>33</td>\n",
       "    </tr>\n",
       "    <tr>\n",
       "      <th>ARG</th>\n",
       "      <td>32</td>\n",
       "    </tr>\n",
       "    <tr>\n",
       "      <th>SUI</th>\n",
       "      <td>29</td>\n",
       "    </tr>\n",
       "  </tbody>\n",
       "</table>\n",
       "</div>"
      ],
      "text/plain": [
       "     Total Medals\n",
       "USA            84\n",
       "GER            72\n",
       "ITA            70\n",
       "NED            65\n",
       "GBR            55\n",
       "FRA            36\n",
       "SWE            36\n",
       "CAN            33\n",
       "ARG            32\n",
       "SUI            29"
      ]
     },
     "execution_count": 90,
     "metadata": {},
     "output_type": "execute_result"
    }
   ],
   "source": [
    "Summer_1928 = summer_df.loc[summer_raw[\"Year\"] == 1928]\n",
    "\n",
    "Medals_1928 =Summer_1928[\"Country\"].value_counts()\n",
    "\n",
    "summary_1928_df = pd.DataFrame({\"Total Medals\": Medals_1928})\n",
    "summary_1928_df.head(10)"
   ]
  },
  {
   "cell_type": "code",
   "execution_count": 122,
   "id": "6ef2b793",
   "metadata": {},
   "outputs": [
    {
     "data": {
      "text/plain": [
       "<BarContainer object of 10 artists>"
      ]
     },
     "execution_count": 122,
     "metadata": {},
     "output_type": "execute_result"
    },
    {
     "data": {
      "image/png": "[encoded data removed]",
      "text/plain": [
       "<Figure size 864x432 with 1 Axes>"
      ]
     },
     "metadata": {
      "needs_background": "light"
     },
     "output_type": "display_data"
    }
   ],
   "source": [
    "# Create an array that contains the number of medals each Country has\n",
    "Medals = [84, 72, 70, 65, 55, 36, 36, 33, 32, 29]\n",
    "x_axis = (\"USA\", \"GER\", \"ITA\", \"NED\", \"GBR\", \"FRA\", \"SWE\", \"CAN\", \"ARG\", \"SUI\")\n",
    "\n",
    "plt.figure(figsize = (12,6))\n",
    "\n",
    "\n",
    "#Adding titles to the chart\n",
    "plt.title(\"1928 SUMMER OLYMPICS - TOP TEN COUNTRIES\")\n",
    "plt.xlabel(\"COUNTRIES\")\n",
    "plt.ylabel(\"TOTAL MEDALS\")\n",
    "\n",
    "plt.bar(x_axis, Medals, color='b', alpha=0.5, align=\"center\")"
   ]
  },
  {
   "cell_type": "markdown",
   "id": "eaf93f0b",
   "metadata": {},
   "source": [
    "### 11. 1932 Summer Olympics"
   ]
  },
  {
   "cell_type": "code",
   "execution_count": 91,
   "id": "60e13665",
   "metadata": {},
   "outputs": [
    {
     "data": {
      "text/html": [
       "<div>\n",
       "<style scoped>\n",
       "    .dataframe tbody tr th:only-of-type {\n",
       "        vertical-align: middle;\n",
       "    }\n",
       "\n",
       "    .dataframe tbody tr th {\n",
       "        vertical-align: top;\n",
       "    }\n",
       "\n",
       "    .dataframe thead th {\n",
       "        text-align: right;\n",
       "    }\n",
       "</style>\n",
       "<table border=\"1\" class=\"dataframe\">\n",
       "  <thead>\n",
       "    <tr style=\"text-align: right;\">\n",
       "      <th></th>\n",
       "      <th>Total Medals</th>\n",
       "    </tr>\n",
       "  </thead>\n",
       "  <tbody>\n",
       "    <tr>\n",
       "      <th>USA</th>\n",
       "      <td>181</td>\n",
       "    </tr>\n",
       "    <tr>\n",
       "      <th>ITA</th>\n",
       "      <td>77</td>\n",
       "    </tr>\n",
       "    <tr>\n",
       "      <th>GER</th>\n",
       "      <td>38</td>\n",
       "    </tr>\n",
       "    <tr>\n",
       "      <th>CAN</th>\n",
       "      <td>38</td>\n",
       "    </tr>\n",
       "    <tr>\n",
       "      <th>FRA</th>\n",
       "      <td>37</td>\n",
       "    </tr>\n",
       "    <tr>\n",
       "      <th>GBR</th>\n",
       "      <td>34</td>\n",
       "    </tr>\n",
       "    <tr>\n",
       "      <th>HUN</th>\n",
       "      <td>32</td>\n",
       "    </tr>\n",
       "    <tr>\n",
       "      <th>JPN</th>\n",
       "      <td>31</td>\n",
       "    </tr>\n",
       "    <tr>\n",
       "      <th>SWE</th>\n",
       "      <td>31</td>\n",
       "    </tr>\n",
       "    <tr>\n",
       "      <th>FIN</th>\n",
       "      <td>29</td>\n",
       "    </tr>\n",
       "  </tbody>\n",
       "</table>\n",
       "</div>"
      ],
      "text/plain": [
       "     Total Medals\n",
       "USA           181\n",
       "ITA            77\n",
       "GER            38\n",
       "CAN            38\n",
       "FRA            37\n",
       "GBR            34\n",
       "HUN            32\n",
       "JPN            31\n",
       "SWE            31\n",
       "FIN            29"
      ]
     },
     "execution_count": 91,
     "metadata": {},
     "output_type": "execute_result"
    }
   ],
   "source": [
    "Summer_1932 = summer_df.loc[summer_raw[\"Year\"] == 1932]\n",
    "\n",
    "Medals_1932 =Summer_1932[\"Country\"].value_counts()\n",
    "\n",
    "summary_1932_df = pd.DataFrame({\"Total Medals\": Medals_1932})\n",
    "summary_1932_df.head(10)"
   ]
  },
  {
   "cell_type": "code",
   "execution_count": 123,
   "id": "e18a1508",
   "metadata": {},
   "outputs": [
    {
     "data": {
      "text/plain": [
       "<BarContainer object of 10 artists>"
      ]
     },
     "execution_count": 123,
     "metadata": {},
     "output_type": "execute_result"
    },
    {
     "data": {
      "image/png": "[encoded data removed]",
      "text/plain": [
       "<Figure size 864x432 with 1 Axes>"
      ]
     },
     "metadata": {
      "needs_background": "light"
     },
     "output_type": "display_data"
    }
   ],
   "source": [
    "# Create an array that contains the number of medals each Country has\n",
    "Medals = [181, 77, 38, 38, 37, 34, 32, 31, 32, 29]\n",
    "x_axis = (\"USA\", \"CAN\", \"GER\", \"CUB\", \"ZZX\", \"HUN\", \"SUI\", \"GRE\", \"GBR\", \"AUT\")\n",
    "\n",
    "plt.figure(figsize = (12,6))\n",
    "\n",
    "#Adding titles to the chart\n",
    "plt.title(\"1932 SUMMER OLYMPICS - TOP TEN COUNTRIES\")\n",
    "plt.xlabel(\"COUNTRIES\")\n",
    "plt.ylabel(\"TOTAL MEDALS\")\n",
    "\n",
    "plt.bar(x_axis, Medals, color='r', alpha=0.5, align=\"center\")"
   ]
  },
  {
   "cell_type": "markdown",
   "id": "6e69c139",
   "metadata": {},
   "source": [
    "### 12. 1936 Summer Olympics"
   ]
  },
  {
   "cell_type": "code",
   "execution_count": 92,
   "id": "3cb23709",
   "metadata": {},
   "outputs": [
    {
     "data": {
      "text/html": [
       "<div>\n",
       "<style scoped>\n",
       "    .dataframe tbody tr th:only-of-type {\n",
       "        vertical-align: middle;\n",
       "    }\n",
       "\n",
       "    .dataframe tbody tr th {\n",
       "        vertical-align: top;\n",
       "    }\n",
       "\n",
       "    .dataframe thead th {\n",
       "        text-align: right;\n",
       "    }\n",
       "</style>\n",
       "<table border=\"1\" class=\"dataframe\">\n",
       "  <thead>\n",
       "    <tr style=\"text-align: right;\">\n",
       "      <th></th>\n",
       "      <th>Total Medals</th>\n",
       "    </tr>\n",
       "  </thead>\n",
       "  <tbody>\n",
       "    <tr>\n",
       "      <th>GER</th>\n",
       "      <td>210</td>\n",
       "    </tr>\n",
       "    <tr>\n",
       "      <th>USA</th>\n",
       "      <td>92</td>\n",
       "    </tr>\n",
       "    <tr>\n",
       "      <th>ITA</th>\n",
       "      <td>71</td>\n",
       "    </tr>\n",
       "    <tr>\n",
       "      <th>AUT</th>\n",
       "      <td>50</td>\n",
       "    </tr>\n",
       "    <tr>\n",
       "      <th>SUI</th>\n",
       "      <td>47</td>\n",
       "    </tr>\n",
       "    <tr>\n",
       "      <th>FRA</th>\n",
       "      <td>43</td>\n",
       "    </tr>\n",
       "    <tr>\n",
       "      <th>HUN</th>\n",
       "      <td>42</td>\n",
       "    </tr>\n",
       "    <tr>\n",
       "      <th>NED</th>\n",
       "      <td>37</td>\n",
       "    </tr>\n",
       "    <tr>\n",
       "      <th>GBR</th>\n",
       "      <td>36</td>\n",
       "    </tr>\n",
       "    <tr>\n",
       "      <th>SWE</th>\n",
       "      <td>34</td>\n",
       "    </tr>\n",
       "  </tbody>\n",
       "</table>\n",
       "</div>"
      ],
      "text/plain": [
       "     Total Medals\n",
       "GER           210\n",
       "USA            92\n",
       "ITA            71\n",
       "AUT            50\n",
       "SUI            47\n",
       "FRA            43\n",
       "HUN            42\n",
       "NED            37\n",
       "GBR            36\n",
       "SWE            34"
      ]
     },
     "execution_count": 92,
     "metadata": {},
     "output_type": "execute_result"
    }
   ],
   "source": [
    "Summer_1936 = summer_df.loc[summer_raw[\"Year\"] == 1936]\n",
    "\n",
    "Medals_1936 =Summer_1936[\"Country\"].value_counts()\n",
    "\n",
    "summary_1936_df = pd.DataFrame({\"Total Medals\": Medals_1936})\n",
    "summary_1936_df.head(10)"
   ]
  },
  {
   "cell_type": "code",
   "execution_count": 124,
   "id": "ef1a58f7",
   "metadata": {},
   "outputs": [
    {
     "data": {
      "text/plain": [
       "<BarContainer object of 10 artists>"
      ]
     },
     "execution_count": 124,
     "metadata": {},
     "output_type": "execute_result"
    },
    {
     "data": {
      "image/png": "[encoded data removed]",
      "text/plain": [
       "<Figure size 864x432 with 1 Axes>"
      ]
     },
     "metadata": {
      "needs_background": "light"
     },
     "output_type": "display_data"
    }
   ],
   "source": [
    "# Create an array that contains the number of medals each Country has\n",
    "Medals = [210, 92, 71, 50, 47, 43, 42, 37, 36, 34]\n",
    "x_axis = (\"GER\", \"USA\", \"ITA\", \"AUT\", \"SUI\", \"FRA\", \"HUN\", \"NED\", \"GBR\", \"SWE\")\n",
    "\n",
    "plt.figure(figsize = (12,6))\n",
    "\n",
    "#Adding titles to the chart\n",
    "plt.title(\"1936 SUMMER OLYMPICS - TOP TEN COUNTRIES\")\n",
    "plt.xlabel(\"COUNTRIES\")\n",
    "plt.ylabel(\"TOTAL MEDALS\")\n",
    "\n",
    "plt.bar(x_axis, Medals, color='b', alpha=0.5, align=\"center\")"
   ]
  },
  {
   "cell_type": "markdown",
   "id": "5e69eb6d",
   "metadata": {},
   "source": [
    "### 13. 1948 Summer Olympics"
   ]
  },
  {
   "cell_type": "code",
   "execution_count": 93,
   "id": "6f4c159b",
   "metadata": {},
   "outputs": [
    {
     "data": {
      "text/html": [
       "<div>\n",
       "<style scoped>\n",
       "    .dataframe tbody tr th:only-of-type {\n",
       "        vertical-align: middle;\n",
       "    }\n",
       "\n",
       "    .dataframe tbody tr th {\n",
       "        vertical-align: top;\n",
       "    }\n",
       "\n",
       "    .dataframe thead th {\n",
       "        text-align: right;\n",
       "    }\n",
       "</style>\n",
       "<table border=\"1\" class=\"dataframe\">\n",
       "  <thead>\n",
       "    <tr style=\"text-align: right;\">\n",
       "      <th></th>\n",
       "      <th>Total Medals</th>\n",
       "    </tr>\n",
       "  </thead>\n",
       "  <tbody>\n",
       "    <tr>\n",
       "      <th>USA</th>\n",
       "      <td>193</td>\n",
       "    </tr>\n",
       "    <tr>\n",
       "      <th>BEL</th>\n",
       "      <td>188</td>\n",
       "    </tr>\n",
       "    <tr>\n",
       "      <th>SWE</th>\n",
       "      <td>146</td>\n",
       "    </tr>\n",
       "    <tr>\n",
       "      <th>FRA</th>\n",
       "      <td>141</td>\n",
       "    </tr>\n",
       "    <tr>\n",
       "      <th>NOR</th>\n",
       "      <td>141</td>\n",
       "    </tr>\n",
       "    <tr>\n",
       "      <th>GBR</th>\n",
       "      <td>107</td>\n",
       "    </tr>\n",
       "    <tr>\n",
       "      <th>ITA</th>\n",
       "      <td>84</td>\n",
       "    </tr>\n",
       "    <tr>\n",
       "      <th>DEN</th>\n",
       "      <td>75</td>\n",
       "    </tr>\n",
       "    <tr>\n",
       "      <th>FIN</th>\n",
       "      <td>49</td>\n",
       "    </tr>\n",
       "    <tr>\n",
       "      <th>NED</th>\n",
       "      <td>48</td>\n",
       "    </tr>\n",
       "  </tbody>\n",
       "</table>\n",
       "</div>"
      ],
      "text/plain": [
       "     Total Medals\n",
       "USA           193\n",
       "BEL           188\n",
       "SWE           146\n",
       "FRA           141\n",
       "NOR           141\n",
       "GBR           107\n",
       "ITA            84\n",
       "DEN            75\n",
       "FIN            49\n",
       "NED            48"
      ]
     },
     "execution_count": 93,
     "metadata": {},
     "output_type": "execute_result"
    }
   ],
   "source": [
    "Summer_1948 = summer_df.loc[summer_raw[\"Year\"] == 1948]\n",
    "\n",
    "Medals_1948 =Summer_1920[\"Country\"].value_counts()\n",
    "\n",
    "summary_1948_df = pd.DataFrame({\"Total Medals\": Medals_1948})\n",
    "summary_1948_df.head(10)"
   ]
  },
  {
   "cell_type": "code",
   "execution_count": 125,
   "id": "1f7733bf",
   "metadata": {},
   "outputs": [
    {
     "data": {
      "text/plain": [
       "<BarContainer object of 10 artists>"
      ]
     },
     "execution_count": 125,
     "metadata": {},
     "output_type": "execute_result"
    },
    {
     "data": {
      "image/png": "[encoded data removed]",
      "text/plain": [
       "<Figure size 864x432 with 1 Axes>"
      ]
     },
     "metadata": {
      "needs_background": "light"
     },
     "output_type": "display_data"
    }
   ],
   "source": [
    "# Create an array that contains the number of medals each Country has\n",
    "Medals = [193, 188, 146, 141, 141, 107, 84, 75, 49, 48]\n",
    "x_axis = (\"USA\", \"BEL\", \"SWED\", \"FRA\", \"NOR\", \"GBR\", \"ITA\", \"DEN\", \"FIN\", \"NED\")\n",
    "\n",
    "plt.figure(figsize = (12,6))\n",
    "\n",
    "#Adding titles to the chart\n",
    "plt.title(\"1948 SUMMER OLYMPICS - TOP TEN COUNTRIES\")\n",
    "plt.xlabel(\"COUNTRIES\")\n",
    "plt.ylabel(\"TOTAL MEDALS\")\n",
    "\n",
    "plt.bar(x_axis, Medals, color='r', alpha=0.5, align=\"center\")"
   ]
  },
  {
   "cell_type": "markdown",
   "id": "ebfc6059",
   "metadata": {},
   "source": [
    "### 14. 1952 Summer Olympics"
   ]
  },
  {
   "cell_type": "code",
   "execution_count": 94,
   "id": "93b7ab91",
   "metadata": {},
   "outputs": [
    {
     "data": {
      "text/html": [
       "<div>\n",
       "<style scoped>\n",
       "    .dataframe tbody tr th:only-of-type {\n",
       "        vertical-align: middle;\n",
       "    }\n",
       "\n",
       "    .dataframe tbody tr th {\n",
       "        vertical-align: top;\n",
       "    }\n",
       "\n",
       "    .dataframe thead th {\n",
       "        text-align: right;\n",
       "    }\n",
       "</style>\n",
       "<table border=\"1\" class=\"dataframe\">\n",
       "  <thead>\n",
       "    <tr style=\"text-align: right;\">\n",
       "      <th></th>\n",
       "      <th>Total Medals</th>\n",
       "    </tr>\n",
       "  </thead>\n",
       "  <tbody>\n",
       "    <tr>\n",
       "      <th>USA</th>\n",
       "      <td>130</td>\n",
       "    </tr>\n",
       "    <tr>\n",
       "      <th>URS</th>\n",
       "      <td>117</td>\n",
       "    </tr>\n",
       "    <tr>\n",
       "      <th>HUN</th>\n",
       "      <td>101</td>\n",
       "    </tr>\n",
       "    <tr>\n",
       "      <th>SWE</th>\n",
       "      <td>70</td>\n",
       "    </tr>\n",
       "    <tr>\n",
       "      <th>ITA</th>\n",
       "      <td>53</td>\n",
       "    </tr>\n",
       "    <tr>\n",
       "      <th>FIN</th>\n",
       "      <td>40</td>\n",
       "    </tr>\n",
       "    <tr>\n",
       "      <th>GER</th>\n",
       "      <td>40</td>\n",
       "    </tr>\n",
       "    <tr>\n",
       "      <th>FRA</th>\n",
       "      <td>39</td>\n",
       "    </tr>\n",
       "    <tr>\n",
       "      <th>SUI</th>\n",
       "      <td>33</td>\n",
       "    </tr>\n",
       "    <tr>\n",
       "      <th>GBR</th>\n",
       "      <td>31</td>\n",
       "    </tr>\n",
       "  </tbody>\n",
       "</table>\n",
       "</div>"
      ],
      "text/plain": [
       "     Total Medals\n",
       "USA           130\n",
       "URS           117\n",
       "HUN           101\n",
       "SWE            70\n",
       "ITA            53\n",
       "FIN            40\n",
       "GER            40\n",
       "FRA            39\n",
       "SUI            33\n",
       "GBR            31"
      ]
     },
     "execution_count": 94,
     "metadata": {},
     "output_type": "execute_result"
    }
   ],
   "source": [
    "Summer_1952 = summer_df.loc[summer_raw[\"Year\"] == 1952]\n",
    "\n",
    "Medals_1952 =Summer_1952[\"Country\"].value_counts()\n",
    "\n",
    "summary_1952_df = pd.DataFrame({\"Total Medals\": Medals_1952})\n",
    "summary_1952_df.head(10)"
   ]
  },
  {
   "cell_type": "code",
   "execution_count": 72,
   "id": "6f961d2b",
   "metadata": {},
   "outputs": [
    {
     "data": {
      "text/plain": [
       "<BarContainer object of 10 artists>"
      ]
     },
     "execution_count": 72,
     "metadata": {},
     "output_type": "execute_result"
    },
    {
     "data": {
      "image/png": "[encoded data removed]",
      "text/plain": [
       "<Figure size 432x288 with 1 Axes>"
      ]
     },
     "metadata": {
      "needs_background": "light"
     },
     "output_type": "display_data"
    }
   ],
   "source": [
    "# Create an array that contains the number of medals each Country has\n",
    "Medals = [130, 117, 101, 70, 53, 40, 40, 39, 33, 31]\n",
    "x_axis = (\"USA\", \"RUS\", \"HUN\", \"SWE\", \"ITA\", \"FIN\", \"GER\", \"FRA\", \"SUI\", \"GBR\")\n",
    "\n",
    "plt.figure(figsize = (12,6))\n",
    "\n",
    "#Adding titles to the chart\n",
    "plt.title(\"1952 SUMMER OLYMPICS - TOP TEN COUNTRIES\")\n",
    "plt.xlabel(\"COUNTRIES\")\n",
    "plt.ylabel(\"TOTAL MEDALS\")\n",
    "\n",
    "plt.bar(x_axis, Medals, color='b', alpha=0.5, align=\"center\")"
   ]
  },
  {
   "cell_type": "markdown",
   "id": "755720a2",
   "metadata": {},
   "source": [
    "### 15. 1956 Summer Olympics"
   ]
  },
  {
   "cell_type": "code",
   "execution_count": 95,
   "id": "41424d4a",
   "metadata": {},
   "outputs": [
    {
     "data": {
      "text/html": [
       "<div>\n",
       "<style scoped>\n",
       "    .dataframe tbody tr th:only-of-type {\n",
       "        vertical-align: middle;\n",
       "    }\n",
       "\n",
       "    .dataframe tbody tr th {\n",
       "        vertical-align: top;\n",
       "    }\n",
       "\n",
       "    .dataframe thead th {\n",
       "        text-align: right;\n",
       "    }\n",
       "</style>\n",
       "<table border=\"1\" class=\"dataframe\">\n",
       "  <thead>\n",
       "    <tr style=\"text-align: right;\">\n",
       "      <th></th>\n",
       "      <th>Total Medals</th>\n",
       "    </tr>\n",
       "  </thead>\n",
       "  <tbody>\n",
       "    <tr>\n",
       "      <th>URS</th>\n",
       "      <td>169</td>\n",
       "    </tr>\n",
       "    <tr>\n",
       "      <th>USA</th>\n",
       "      <td>118</td>\n",
       "    </tr>\n",
       "    <tr>\n",
       "      <th>HUN</th>\n",
       "      <td>64</td>\n",
       "    </tr>\n",
       "    <tr>\n",
       "      <th>AUS</th>\n",
       "      <td>61</td>\n",
       "    </tr>\n",
       "    <tr>\n",
       "      <th>EUA</th>\n",
       "      <td>57</td>\n",
       "    </tr>\n",
       "    <tr>\n",
       "      <th>ITA</th>\n",
       "      <td>46</td>\n",
       "    </tr>\n",
       "    <tr>\n",
       "      <th>GBR</th>\n",
       "      <td>45</td>\n",
       "    </tr>\n",
       "    <tr>\n",
       "      <th>SWE</th>\n",
       "      <td>34</td>\n",
       "    </tr>\n",
       "    <tr>\n",
       "      <th>FRA</th>\n",
       "      <td>32</td>\n",
       "    </tr>\n",
       "    <tr>\n",
       "      <th>FIN</th>\n",
       "      <td>26</td>\n",
       "    </tr>\n",
       "  </tbody>\n",
       "</table>\n",
       "</div>"
      ],
      "text/plain": [
       "     Total Medals\n",
       "URS           169\n",
       "USA           118\n",
       "HUN            64\n",
       "AUS            61\n",
       "EUA            57\n",
       "ITA            46\n",
       "GBR            45\n",
       "SWE            34\n",
       "FRA            32\n",
       "FIN            26"
      ]
     },
     "execution_count": 95,
     "metadata": {},
     "output_type": "execute_result"
    }
   ],
   "source": [
    "Summer_1956 = summer_df.loc[summer_raw[\"Year\"] == 1956]\n",
    "\n",
    "Medals_1956 =Summer_1956[\"Country\"].value_counts()\n",
    "\n",
    "summary_1956_df = pd.DataFrame({\"Total Medals\": Medals_1956})\n",
    "summary_1956_df.head(10)"
   ]
  },
  {
   "cell_type": "code",
   "execution_count": 126,
   "id": "842932ab",
   "metadata": {},
   "outputs": [
    {
     "data": {
      "text/plain": [
       "<BarContainer object of 10 artists>"
      ]
     },
     "execution_count": 126,
     "metadata": {},
     "output_type": "execute_result"
    },
    {
     "data": {
      "image/png": "[encoded data removed]",
      "text/plain": [
       "<Figure size 864x432 with 1 Axes>"
      ]
     },
     "metadata": {
      "needs_background": "light"
     },
     "output_type": "display_data"
    }
   ],
   "source": [
    "# Create an array that contains the number of medals each Country has\n",
    "Medals = [169, 118, 64, 61, 57, 46, 45, 34, 32, 26]\n",
    "x_axis = (\"RUS\", \"USA\", \"HUN\", \"AUS\", \"GER\", \"ITA\", \"GBR\", \"SWE\", \"FRA\", \"FIN\")\n",
    "\n",
    "plt.figure(figsize = (12,6))\n",
    "\n",
    "#Adding titles to the chart\n",
    "plt.title(\"1956 SUMMER OLYMPICS - TOP TEN COUNTRIES\")\n",
    "plt.xlabel(\"COUNTRIES\")\n",
    "plt.ylabel(\"TOTAL MEDALS\")\n",
    "\n",
    "plt.bar(x_axis, Medals, color='r', alpha=0.5, align=\"center\")"
   ]
  },
  {
   "cell_type": "markdown",
   "id": "cef80bec",
   "metadata": {},
   "source": [
    "### 16. 1960 Summer Olympics"
   ]
  },
  {
   "cell_type": "code",
   "execution_count": 84,
   "id": "da4d11ba",
   "metadata": {},
   "outputs": [
    {
     "data": {
      "text/html": [
       "<div>\n",
       "<style scoped>\n",
       "    .dataframe tbody tr th:only-of-type {\n",
       "        vertical-align: middle;\n",
       "    }\n",
       "\n",
       "    .dataframe tbody tr th {\n",
       "        vertical-align: top;\n",
       "    }\n",
       "\n",
       "    .dataframe thead th {\n",
       "        text-align: right;\n",
       "    }\n",
       "</style>\n",
       "<table border=\"1\" class=\"dataframe\">\n",
       "  <thead>\n",
       "    <tr style=\"text-align: right;\">\n",
       "      <th></th>\n",
       "      <th>Total Medals</th>\n",
       "    </tr>\n",
       "  </thead>\n",
       "  <tbody>\n",
       "    <tr>\n",
       "      <th>URS</th>\n",
       "      <td>169</td>\n",
       "    </tr>\n",
       "    <tr>\n",
       "      <th>USA</th>\n",
       "      <td>112</td>\n",
       "    </tr>\n",
       "    <tr>\n",
       "      <th>ITA</th>\n",
       "      <td>88</td>\n",
       "    </tr>\n",
       "    <tr>\n",
       "      <th>EUA</th>\n",
       "      <td>88</td>\n",
       "    </tr>\n",
       "    <tr>\n",
       "      <th>HUN</th>\n",
       "      <td>65</td>\n",
       "    </tr>\n",
       "    <tr>\n",
       "      <th>AUS</th>\n",
       "      <td>36</td>\n",
       "    </tr>\n",
       "    <tr>\n",
       "      <th>POL</th>\n",
       "      <td>30</td>\n",
       "    </tr>\n",
       "    <tr>\n",
       "      <th>JPN</th>\n",
       "      <td>29</td>\n",
       "    </tr>\n",
       "    <tr>\n",
       "      <th>GBR</th>\n",
       "      <td>28</td>\n",
       "    </tr>\n",
       "    <tr>\n",
       "      <th>DEN</th>\n",
       "      <td>23</td>\n",
       "    </tr>\n",
       "  </tbody>\n",
       "</table>\n",
       "</div>"
      ],
      "text/plain": [
       "     Total Medals\n",
       "URS           169\n",
       "USA           112\n",
       "ITA            88\n",
       "EUA            88\n",
       "HUN            65\n",
       "AUS            36\n",
       "POL            30\n",
       "JPN            29\n",
       "GBR            28\n",
       "DEN            23"
      ]
     },
     "execution_count": 84,
     "metadata": {},
     "output_type": "execute_result"
    }
   ],
   "source": [
    "Summer_1960 = summer_df.loc[summer_raw[\"Year\"] == 1960]\n",
    "\n",
    "Medals_1960 =Summer_1960[\"Country\"].value_counts()\n",
    "\n",
    "summary_1960_df = pd.DataFrame({\"Total Medals\": Medals_1960})\n",
    "summary_1960_df.head(10)"
   ]
  },
  {
   "cell_type": "code",
   "execution_count": 127,
   "id": "506685ac",
   "metadata": {},
   "outputs": [
    {
     "data": {
      "text/plain": [
       "<BarContainer object of 10 artists>"
      ]
     },
     "execution_count": 127,
     "metadata": {},
     "output_type": "execute_result"
    },
    {
     "data": {
      "image/png": "[encoded data removed]",
      "text/plain": [
       "<Figure size 864x432 with 1 Axes>"
      ]
     },
     "metadata": {
      "needs_background": "light"
     },
     "output_type": "display_data"
    }
   ],
   "source": [
    "# Create an array that contains the number of medals each Country has\n",
    "Medals = [169, 112, 88, 88, 65, 36, 30, 29, 28, 23]\n",
    "x_axis = (\"RUS\", \"USA\", \"ITA\", \"GER\", \"HUN\", \"AUS\", \"POL\", \"JPN\", \"GBR\", \"DEN\")\n",
    "\n",
    "plt.figure(figsize = (12,6))\n",
    "\n",
    "#Adding titles to the chart\n",
    "plt.title(\"1960 SUMMER OLYMPICS - TOP TEN COUNTRIES\")\n",
    "plt.xlabel(\"COUNTRIES\")\n",
    "plt.ylabel(\"TOTAL MEDALS\")\n",
    "\n",
    "plt.bar(x_axis, Medals, color='b', alpha=0.5, align=\"center\")"
   ]
  },
  {
   "cell_type": "markdown",
   "id": "6507cd08",
   "metadata": {},
   "source": [
    "### 17. 1964 Summer Olympics"
   ]
  },
  {
   "cell_type": "code",
   "execution_count": 97,
   "id": "807736fa",
   "metadata": {},
   "outputs": [
    {
     "data": {
      "text/html": [
       "<div>\n",
       "<style scoped>\n",
       "    .dataframe tbody tr th:only-of-type {\n",
       "        vertical-align: middle;\n",
       "    }\n",
       "\n",
       "    .dataframe tbody tr th {\n",
       "        vertical-align: top;\n",
       "    }\n",
       "\n",
       "    .dataframe thead th {\n",
       "        text-align: right;\n",
       "    }\n",
       "</style>\n",
       "<table border=\"1\" class=\"dataframe\">\n",
       "  <thead>\n",
       "    <tr style=\"text-align: right;\">\n",
       "      <th></th>\n",
       "      <th>Total Medals</th>\n",
       "    </tr>\n",
       "  </thead>\n",
       "  <tbody>\n",
       "    <tr>\n",
       "      <th>URS</th>\n",
       "      <td>174</td>\n",
       "    </tr>\n",
       "    <tr>\n",
       "      <th>USA</th>\n",
       "      <td>150</td>\n",
       "    </tr>\n",
       "    <tr>\n",
       "      <th>EUA</th>\n",
       "      <td>115</td>\n",
       "    </tr>\n",
       "    <tr>\n",
       "      <th>JPN</th>\n",
       "      <td>64</td>\n",
       "    </tr>\n",
       "    <tr>\n",
       "      <th>HUN</th>\n",
       "      <td>56</td>\n",
       "    </tr>\n",
       "    <tr>\n",
       "      <th>TCH</th>\n",
       "      <td>55</td>\n",
       "    </tr>\n",
       "    <tr>\n",
       "      <th>ITA</th>\n",
       "      <td>50</td>\n",
       "    </tr>\n",
       "    <tr>\n",
       "      <th>POL</th>\n",
       "      <td>48</td>\n",
       "    </tr>\n",
       "    <tr>\n",
       "      <th>AUS</th>\n",
       "      <td>42</td>\n",
       "    </tr>\n",
       "    <tr>\n",
       "      <th>FRA</th>\n",
       "      <td>31</td>\n",
       "    </tr>\n",
       "  </tbody>\n",
       "</table>\n",
       "</div>"
      ],
      "text/plain": [
       "     Total Medals\n",
       "URS           174\n",
       "USA           150\n",
       "EUA           115\n",
       "JPN            64\n",
       "HUN            56\n",
       "TCH            55\n",
       "ITA            50\n",
       "POL            48\n",
       "AUS            42\n",
       "FRA            31"
      ]
     },
     "execution_count": 97,
     "metadata": {},
     "output_type": "execute_result"
    }
   ],
   "source": [
    "Summer_1964 = summer_df.loc[summer_raw[\"Year\"] == 1964]\n",
    "\n",
    "Medals_1964 =Summer_1964[\"Country\"].value_counts()\n",
    "\n",
    "summary_1964_df = pd.DataFrame({\"Total Medals\": Medals_1964})\n",
    "summary_1964_df.head(10)"
   ]
  },
  {
   "cell_type": "code",
   "execution_count": 128,
   "id": "2ddf28a9",
   "metadata": {},
   "outputs": [
    {
     "data": {
      "text/plain": [
       "<BarContainer object of 10 artists>"
      ]
     },
     "execution_count": 128,
     "metadata": {},
     "output_type": "execute_result"
    },
    {
     "data": {
      "image/png": "[encoded data removed]",
      "text/plain": [
       "<Figure size 864x432 with 1 Axes>"
      ]
     },
     "metadata": {
      "needs_background": "light"
     },
     "output_type": "display_data"
    }
   ],
   "source": [
    "# Create an array that contains the number of medals each Country has\n",
    "Medals = [174, 150, 115, 64, 56, 55, 50, 48, 42, 31]\n",
    "x_axis = (\"RUS\", \"USA\", \"GER\", \"JPN\", \"HUN\", \"TCH\", \"ITA\", \"POL\", \"AUS\", \"FRA\")\n",
    "\n",
    "plt.figure(figsize = (12,6))\n",
    "\n",
    "#Adding titles to the chart\n",
    "plt.title(\"1964 SUMMER OLYMPICS - TOP TEN COUNTRIES\")\n",
    "plt.xlabel(\"COUNTRIES\")\n",
    "plt.ylabel(\"TOTAL MEDALS\")\n",
    "\n",
    "plt.bar(x_axis, Medals, color='r', alpha=0.5, align=\"center\")"
   ]
  },
  {
   "cell_type": "markdown",
   "id": "ad5093eb",
   "metadata": {},
   "source": [
    "### 18. 1968 Summer Olympics"
   ]
  },
  {
   "cell_type": "code",
   "execution_count": 98,
   "id": "20c0a4c4",
   "metadata": {},
   "outputs": [
    {
     "data": {
      "text/html": [
       "<div>\n",
       "<style scoped>\n",
       "    .dataframe tbody tr th:only-of-type {\n",
       "        vertical-align: middle;\n",
       "    }\n",
       "\n",
       "    .dataframe tbody tr th {\n",
       "        vertical-align: top;\n",
       "    }\n",
       "\n",
       "    .dataframe thead th {\n",
       "        text-align: right;\n",
       "    }\n",
       "</style>\n",
       "<table border=\"1\" class=\"dataframe\">\n",
       "  <thead>\n",
       "    <tr style=\"text-align: right;\">\n",
       "      <th></th>\n",
       "      <th>Total Medals</th>\n",
       "    </tr>\n",
       "  </thead>\n",
       "  <tbody>\n",
       "    <tr>\n",
       "      <th>URS</th>\n",
       "      <td>188</td>\n",
       "    </tr>\n",
       "    <tr>\n",
       "      <th>USA</th>\n",
       "      <td>149</td>\n",
       "    </tr>\n",
       "    <tr>\n",
       "      <th>HUN</th>\n",
       "      <td>81</td>\n",
       "    </tr>\n",
       "    <tr>\n",
       "      <th>JPN</th>\n",
       "      <td>67</td>\n",
       "    </tr>\n",
       "    <tr>\n",
       "      <th>GDR</th>\n",
       "      <td>51</td>\n",
       "    </tr>\n",
       "    <tr>\n",
       "      <th>AUS</th>\n",
       "      <td>49</td>\n",
       "    </tr>\n",
       "    <tr>\n",
       "      <th>FRG</th>\n",
       "      <td>49</td>\n",
       "    </tr>\n",
       "    <tr>\n",
       "      <th>POL</th>\n",
       "      <td>37</td>\n",
       "    </tr>\n",
       "    <tr>\n",
       "      <th>ITA</th>\n",
       "      <td>32</td>\n",
       "    </tr>\n",
       "    <tr>\n",
       "      <th>TCH</th>\n",
       "      <td>29</td>\n",
       "    </tr>\n",
       "  </tbody>\n",
       "</table>\n",
       "</div>"
      ],
      "text/plain": [
       "     Total Medals\n",
       "URS           188\n",
       "USA           149\n",
       "HUN            81\n",
       "JPN            67\n",
       "GDR            51\n",
       "AUS            49\n",
       "FRG            49\n",
       "POL            37\n",
       "ITA            32\n",
       "TCH            29"
      ]
     },
     "execution_count": 98,
     "metadata": {},
     "output_type": "execute_result"
    }
   ],
   "source": [
    "Summer_1968 = summer_df.loc[summer_raw[\"Year\"] == 1968]\n",
    "\n",
    "Medals_1968 =Summer_1968[\"Country\"].value_counts()\n",
    "\n",
    "summary_1968_df = pd.DataFrame({\"Total Medals\": Medals_1968})\n",
    "summary_1968_df.head(10)"
   ]
  },
  {
   "cell_type": "code",
   "execution_count": 129,
   "id": "ac31ad01",
   "metadata": {},
   "outputs": [
    {
     "data": {
      "text/plain": [
       "<BarContainer object of 10 artists>"
      ]
     },
     "execution_count": 129,
     "metadata": {},
     "output_type": "execute_result"
    },
    {
     "data": {
      "image/png": "[encoded data removed]",
      "text/plain": [
       "<Figure size 864x432 with 1 Axes>"
      ]
     },
     "metadata": {
      "needs_background": "light"
     },
     "output_type": "display_data"
    }
   ],
   "source": [
    "# Create an array that contains the number of medals each Country has\n",
    "Medals = [188, 149, 81, 67, 51, 49, 49, 37, 32, 29]\n",
    "x_axis = (\"RUS\", \"USA\", \"HUN\", \"JPN\", \"GER1\", \"AUS\", \"GER2\", \"POL\", \"ITA\", \"TCH\")\n",
    "\n",
    "plt.figure(figsize = (12,6))\n",
    "\n",
    "#Adding titles to the chart\n",
    "plt.title(\"1968 SUMMER OLYMPICS - TOP TEN COUNTRIES\")\n",
    "plt.xlabel(\"COUNTRIES\")\n",
    "plt.ylabel(\"TOTAL MEDALS\")\n",
    "\n",
    "plt.bar(x_axis, Medals, color='b', alpha=0.5, align=\"center\")"
   ]
  },
  {
   "cell_type": "markdown",
   "id": "07530a3a",
   "metadata": {},
   "source": [
    "### 19. 1972 Summer Olympics"
   ]
  },
  {
   "cell_type": "code",
   "execution_count": 99,
   "id": "46180c32",
   "metadata": {},
   "outputs": [
    {
     "data": {
      "text/html": [
       "<div>\n",
       "<style scoped>\n",
       "    .dataframe tbody tr th:only-of-type {\n",
       "        vertical-align: middle;\n",
       "    }\n",
       "\n",
       "    .dataframe tbody tr th {\n",
       "        vertical-align: top;\n",
       "    }\n",
       "\n",
       "    .dataframe thead th {\n",
       "        text-align: right;\n",
       "    }\n",
       "</style>\n",
       "<table border=\"1\" class=\"dataframe\">\n",
       "  <thead>\n",
       "    <tr style=\"text-align: right;\">\n",
       "      <th></th>\n",
       "      <th>Total Medals</th>\n",
       "    </tr>\n",
       "  </thead>\n",
       "  <tbody>\n",
       "    <tr>\n",
       "      <th>URS</th>\n",
       "      <td>211</td>\n",
       "    </tr>\n",
       "    <tr>\n",
       "      <th>USA</th>\n",
       "      <td>155</td>\n",
       "    </tr>\n",
       "    <tr>\n",
       "      <th>GDR</th>\n",
       "      <td>148</td>\n",
       "    </tr>\n",
       "    <tr>\n",
       "      <th>FRG</th>\n",
       "      <td>96</td>\n",
       "    </tr>\n",
       "    <tr>\n",
       "      <th>HUN</th>\n",
       "      <td>81</td>\n",
       "    </tr>\n",
       "    <tr>\n",
       "      <th>JPN</th>\n",
       "      <td>56</td>\n",
       "    </tr>\n",
       "    <tr>\n",
       "      <th>POL</th>\n",
       "      <td>46</td>\n",
       "    </tr>\n",
       "    <tr>\n",
       "      <th>ROU</th>\n",
       "      <td>40</td>\n",
       "    </tr>\n",
       "    <tr>\n",
       "      <th>TCH</th>\n",
       "      <td>29</td>\n",
       "    </tr>\n",
       "    <tr>\n",
       "      <th>GBR</th>\n",
       "      <td>29</td>\n",
       "    </tr>\n",
       "  </tbody>\n",
       "</table>\n",
       "</div>"
      ],
      "text/plain": [
       "     Total Medals\n",
       "URS           211\n",
       "USA           155\n",
       "GDR           148\n",
       "FRG            96\n",
       "HUN            81\n",
       "JPN            56\n",
       "POL            46\n",
       "ROU            40\n",
       "TCH            29\n",
       "GBR            29"
      ]
     },
     "execution_count": 99,
     "metadata": {},
     "output_type": "execute_result"
    }
   ],
   "source": [
    "Summer_1972 = summer_df.loc[summer_raw[\"Year\"] == 1972]\n",
    "\n",
    "Medals_1972 =Summer_1972[\"Country\"].value_counts()\n",
    "\n",
    "summary_1972_df = pd.DataFrame({\"Total Medals\": Medals_1972})\n",
    "summary_1972_df.head(10)"
   ]
  },
  {
   "cell_type": "code",
   "execution_count": 130,
   "id": "6e0fb0f9",
   "metadata": {},
   "outputs": [
    {
     "data": {
      "text/plain": [
       "<BarContainer object of 10 artists>"
      ]
     },
     "execution_count": 130,
     "metadata": {},
     "output_type": "execute_result"
    },
    {
     "data": {
      "image/png": "[encoded data removed]",
      "text/plain": [
       "<Figure size 864x432 with 1 Axes>"
      ]
     },
     "metadata": {
      "needs_background": "light"
     },
     "output_type": "display_data"
    }
   ],
   "source": [
    "# Create an array that contains the number of medals each Country has\n",
    "Medals = [211, 155, 148, 96, 81, 56, 46, 40, 29, 29]\n",
    "x_axis = (\"RUS\", \"USA\", \"GER\", \"GER2\", \"HUN\", \"JPN\", \"POL\", \"ROU\", \"TCH\", \"GBR\")\n",
    "\n",
    "plt.figure(figsize = (12,6))\n",
    "\n",
    "#Adding titles to the chart\n",
    "plt.title(\"1972 SUMMER OLYMPICS - TOP TEN COUNTRIES\")\n",
    "plt.xlabel(\"COUNTRIES\")\n",
    "plt.ylabel(\"TOTAL MEDALS\")\n",
    "\n",
    "plt.bar(x_axis, Medals, color='r', alpha=0.5, align=\"center\")"
   ]
  },
  {
   "cell_type": "markdown",
   "id": "7ce0a541",
   "metadata": {},
   "source": [
    "### 20. 1976 Summer Olympics"
   ]
  },
  {
   "cell_type": "code",
   "execution_count": 100,
   "id": "09a2b46c",
   "metadata": {},
   "outputs": [
    {
     "data": {
      "text/html": [
       "<div>\n",
       "<style scoped>\n",
       "    .dataframe tbody tr th:only-of-type {\n",
       "        vertical-align: middle;\n",
       "    }\n",
       "\n",
       "    .dataframe tbody tr th {\n",
       "        vertical-align: top;\n",
       "    }\n",
       "\n",
       "    .dataframe thead th {\n",
       "        text-align: right;\n",
       "    }\n",
       "</style>\n",
       "<table border=\"1\" class=\"dataframe\">\n",
       "  <thead>\n",
       "    <tr style=\"text-align: right;\">\n",
       "      <th></th>\n",
       "      <th>Total Medals</th>\n",
       "    </tr>\n",
       "  </thead>\n",
       "  <tbody>\n",
       "    <tr>\n",
       "      <th>URS</th>\n",
       "      <td>285</td>\n",
       "    </tr>\n",
       "    <tr>\n",
       "      <th>GDR</th>\n",
       "      <td>192</td>\n",
       "    </tr>\n",
       "    <tr>\n",
       "      <th>USA</th>\n",
       "      <td>155</td>\n",
       "    </tr>\n",
       "    <tr>\n",
       "      <th>FRG</th>\n",
       "      <td>75</td>\n",
       "    </tr>\n",
       "    <tr>\n",
       "      <th>POL</th>\n",
       "      <td>73</td>\n",
       "    </tr>\n",
       "    <tr>\n",
       "      <th>HUN</th>\n",
       "      <td>55</td>\n",
       "    </tr>\n",
       "    <tr>\n",
       "      <th>ROU</th>\n",
       "      <td>55</td>\n",
       "    </tr>\n",
       "    <tr>\n",
       "      <th>JPN</th>\n",
       "      <td>41</td>\n",
       "    </tr>\n",
       "    <tr>\n",
       "      <th>BUL</th>\n",
       "      <td>39</td>\n",
       "    </tr>\n",
       "    <tr>\n",
       "      <th>GBR</th>\n",
       "      <td>32</td>\n",
       "    </tr>\n",
       "  </tbody>\n",
       "</table>\n",
       "</div>"
      ],
      "text/plain": [
       "     Total Medals\n",
       "URS           285\n",
       "GDR           192\n",
       "USA           155\n",
       "FRG            75\n",
       "POL            73\n",
       "HUN            55\n",
       "ROU            55\n",
       "JPN            41\n",
       "BUL            39\n",
       "GBR            32"
      ]
     },
     "execution_count": 100,
     "metadata": {},
     "output_type": "execute_result"
    }
   ],
   "source": [
    "Summer_1976 = summer_df.loc[summer_raw[\"Year\"] == 1976]\n",
    "\n",
    "Medals_1976 =Summer_1976[\"Country\"].value_counts()\n",
    "\n",
    "summary_1976_df = pd.DataFrame({\"Total Medals\": Medals_1976})\n",
    "summary_1976_df.head(10)"
   ]
  },
  {
   "cell_type": "code",
   "execution_count": 131,
   "id": "e2579d5d",
   "metadata": {},
   "outputs": [
    {
     "data": {
      "text/plain": [
       "<BarContainer object of 10 artists>"
      ]
     },
     "execution_count": 131,
     "metadata": {},
     "output_type": "execute_result"
    },
    {
     "data": {
      "image/png": "[encoded data removed]",
      "text/plain": [
       "<Figure size 864x432 with 1 Axes>"
      ]
     },
     "metadata": {
      "needs_background": "light"
     },
     "output_type": "display_data"
    }
   ],
   "source": [
    "# Create an array that contains the number of medals each Country has\n",
    "Medals = [285, 192, 155, 155, 75, 73, 55, 41, 39, 32]\n",
    "x_axis = (\"RUS\", \"GER\", \"USA\", \"GER2\", \"POL\", \"HUN\", \"ROU\", \"JPN\", \"BUL\", \"GBR\")\n",
    "\n",
    "plt.figure(figsize = (12,6))\n",
    "\n",
    "#Adding titles to the chart\n",
    "plt.title(\"1976 SUMMER OLYMPICS - TOP TEN COUNTRIES\")\n",
    "plt.xlabel(\"COUNTRIES\")\n",
    "plt.ylabel(\"TOTAL MEDALS\")\n",
    "\n",
    "plt.bar(x_axis, Medals, color='b', alpha=0.5, align=\"center\")"
   ]
  },
  {
   "cell_type": "markdown",
   "id": "91768bdc",
   "metadata": {},
   "source": [
    "### 21. 1980 Summer Olympics"
   ]
  },
  {
   "cell_type": "code",
   "execution_count": 103,
   "id": "623e58b7",
   "metadata": {},
   "outputs": [
    {
     "data": {
      "text/html": [
       "<div>\n",
       "<style scoped>\n",
       "    .dataframe tbody tr th:only-of-type {\n",
       "        vertical-align: middle;\n",
       "    }\n",
       "\n",
       "    .dataframe tbody tr th {\n",
       "        vertical-align: top;\n",
       "    }\n",
       "\n",
       "    .dataframe thead th {\n",
       "        text-align: right;\n",
       "    }\n",
       "</style>\n",
       "<table border=\"1\" class=\"dataframe\">\n",
       "  <thead>\n",
       "    <tr style=\"text-align: right;\">\n",
       "      <th></th>\n",
       "      <th>Total Medals</th>\n",
       "    </tr>\n",
       "  </thead>\n",
       "  <tbody>\n",
       "    <tr>\n",
       "      <th>URS</th>\n",
       "      <td>442</td>\n",
       "    </tr>\n",
       "    <tr>\n",
       "      <th>GDR</th>\n",
       "      <td>260</td>\n",
       "    </tr>\n",
       "    <tr>\n",
       "      <th>BUL</th>\n",
       "      <td>94</td>\n",
       "    </tr>\n",
       "    <tr>\n",
       "      <th>ROU</th>\n",
       "      <td>72</td>\n",
       "    </tr>\n",
       "    <tr>\n",
       "      <th>HUN</th>\n",
       "      <td>61</td>\n",
       "    </tr>\n",
       "    <tr>\n",
       "      <th>YUG</th>\n",
       "      <td>57</td>\n",
       "    </tr>\n",
       "    <tr>\n",
       "      <th>TCH</th>\n",
       "      <td>52</td>\n",
       "    </tr>\n",
       "    <tr>\n",
       "      <th>POL</th>\n",
       "      <td>50</td>\n",
       "    </tr>\n",
       "    <tr>\n",
       "      <th>GBR</th>\n",
       "      <td>45</td>\n",
       "    </tr>\n",
       "    <tr>\n",
       "      <th>ITA</th>\n",
       "      <td>37</td>\n",
       "    </tr>\n",
       "  </tbody>\n",
       "</table>\n",
       "</div>"
      ],
      "text/plain": [
       "     Total Medals\n",
       "URS           442\n",
       "GDR           260\n",
       "BUL            94\n",
       "ROU            72\n",
       "HUN            61\n",
       "YUG            57\n",
       "TCH            52\n",
       "POL            50\n",
       "GBR            45\n",
       "ITA            37"
      ]
     },
     "execution_count": 103,
     "metadata": {},
     "output_type": "execute_result"
    }
   ],
   "source": [
    "Summer_1980 = summer_df.loc[summer_raw[\"Year\"] == 1980]\n",
    "\n",
    "Medals_1980 =Summer_1980[\"Country\"].value_counts()\n",
    "\n",
    "summary_1980_df = pd.DataFrame({\"Total Medals\": Medals_1980})\n",
    "summary_1980_df.head(10)"
   ]
  },
  {
   "cell_type": "code",
   "execution_count": 132,
   "id": "589accb4",
   "metadata": {},
   "outputs": [
    {
     "data": {
      "text/plain": [
       "<BarContainer object of 10 artists>"
      ]
     },
     "execution_count": 132,
     "metadata": {},
     "output_type": "execute_result"
    },
    {
     "data": {
      "image/png": "[encoded data removed]",
      "text/plain": [
       "<Figure size 864x432 with 1 Axes>"
      ]
     },
     "metadata": {
      "needs_background": "light"
     },
     "output_type": "display_data"
    }
   ],
   "source": [
    "# Create an array that contains the number of medals each Country has\n",
    "Medals = [442, 260, 94, 72, 61, 57, 52, 50, 45, 37]\n",
    "x_axis = (\"RUS\", \"GER\", \"BUL\", \"ROU\", \"HUN\", \"YUG\", \"TCH\", \"POL\", \"GBR\", \"ITA\")\n",
    "\n",
    "plt.figure(figsize = (12,6))\n",
    "\n",
    "#Adding titles to the chart\n",
    "plt.title(\"1980 SUMMER OLYMPICS - TOP TEN COUNTRIES\")\n",
    "plt.xlabel(\"COUNTRIES\")\n",
    "plt.ylabel(\"TOTAL MEDALS\")\n",
    "\n",
    "plt.bar(x_axis, Medals, color='r', alpha=0.5, align=\"center\")"
   ]
  },
  {
   "cell_type": "markdown",
   "id": "4ae8f6fe",
   "metadata": {},
   "source": [
    "### 22. 1984 Summer Olympics"
   ]
  },
  {
   "cell_type": "code",
   "execution_count": 104,
   "id": "eb7e1b70",
   "metadata": {},
   "outputs": [
    {
     "data": {
      "text/html": [
       "<div>\n",
       "<style scoped>\n",
       "    .dataframe tbody tr th:only-of-type {\n",
       "        vertical-align: middle;\n",
       "    }\n",
       "\n",
       "    .dataframe tbody tr th {\n",
       "        vertical-align: top;\n",
       "    }\n",
       "\n",
       "    .dataframe thead th {\n",
       "        text-align: right;\n",
       "    }\n",
       "</style>\n",
       "<table border=\"1\" class=\"dataframe\">\n",
       "  <thead>\n",
       "    <tr style=\"text-align: right;\">\n",
       "      <th></th>\n",
       "      <th>Total Medals</th>\n",
       "    </tr>\n",
       "  </thead>\n",
       "  <tbody>\n",
       "    <tr>\n",
       "      <th>USA</th>\n",
       "      <td>333</td>\n",
       "    </tr>\n",
       "    <tr>\n",
       "      <th>FRG</th>\n",
       "      <td>157</td>\n",
       "    </tr>\n",
       "    <tr>\n",
       "      <th>ROU</th>\n",
       "      <td>106</td>\n",
       "    </tr>\n",
       "    <tr>\n",
       "      <th>YUG</th>\n",
       "      <td>87</td>\n",
       "    </tr>\n",
       "    <tr>\n",
       "      <th>CAN</th>\n",
       "      <td>86</td>\n",
       "    </tr>\n",
       "    <tr>\n",
       "      <th>CHN</th>\n",
       "      <td>76</td>\n",
       "    </tr>\n",
       "    <tr>\n",
       "      <th>GBR</th>\n",
       "      <td>72</td>\n",
       "    </tr>\n",
       "    <tr>\n",
       "      <th>FRA</th>\n",
       "      <td>68</td>\n",
       "    </tr>\n",
       "    <tr>\n",
       "      <th>ITA</th>\n",
       "      <td>63</td>\n",
       "    </tr>\n",
       "    <tr>\n",
       "      <th>AUS</th>\n",
       "      <td>50</td>\n",
       "    </tr>\n",
       "  </tbody>\n",
       "</table>\n",
       "</div>"
      ],
      "text/plain": [
       "     Total Medals\n",
       "USA           333\n",
       "FRG           157\n",
       "ROU           106\n",
       "YUG            87\n",
       "CAN            86\n",
       "CHN            76\n",
       "GBR            72\n",
       "FRA            68\n",
       "ITA            63\n",
       "AUS            50"
      ]
     },
     "execution_count": 104,
     "metadata": {},
     "output_type": "execute_result"
    }
   ],
   "source": [
    "Summer_1984 = summer_df.loc[summer_raw[\"Year\"] == 1984]\n",
    "\n",
    "Medals_1984 =Summer_1984[\"Country\"].value_counts()\n",
    "\n",
    "summary_1984_df = pd.DataFrame({\"Total Medals\": Medals_1984})\n",
    "summary_1984_df.head(10)"
   ]
  },
  {
   "cell_type": "code",
   "execution_count": 133,
   "id": "67212ff5",
   "metadata": {},
   "outputs": [
    {
     "data": {
      "text/plain": [
       "<BarContainer object of 10 artists>"
      ]
     },
     "execution_count": 133,
     "metadata": {},
     "output_type": "execute_result"
    },
    {
     "data": {
      "image/png": "[encoded data removed]",
      "text/plain": [
       "<Figure size 864x432 with 1 Axes>"
      ]
     },
     "metadata": {
      "needs_background": "light"
     },
     "output_type": "display_data"
    }
   ],
   "source": [
    "# Create an array that contains the number of medals each Country has\n",
    "Medals = [442, 260, 94, 72, 61, 57, 52, 50, 45, 37]\n",
    "x_axis = (\"USA\", \"GER\", \"ROU\", \"YUG\", \"CAN\", \"CHN\", \"GBR\", \"FRA\", \"ITA\", \"AUS\")\n",
    "\n",
    "plt.figure(figsize = (12,6))\n",
    "\n",
    "#Adding titles to the chart\n",
    "plt.title(\"1984 SUMMER OLYMPICS - TOP TEN COUNTRIES\")\n",
    "plt.xlabel(\"COUNTRIES\")\n",
    "plt.ylabel(\"TOTAL MEDALS\")\n",
    "\n",
    "plt.bar(x_axis, Medals, color='b', alpha=0.5, align=\"center\")"
   ]
  },
  {
   "cell_type": "markdown",
   "id": "2da717ff",
   "metadata": {},
   "source": [
    "### 23. 1988 Summer Olympics"
   ]
  },
  {
   "cell_type": "code",
   "execution_count": 105,
   "id": "cb15336d",
   "metadata": {},
   "outputs": [
    {
     "data": {
      "text/html": [
       "<div>\n",
       "<style scoped>\n",
       "    .dataframe tbody tr th:only-of-type {\n",
       "        vertical-align: middle;\n",
       "    }\n",
       "\n",
       "    .dataframe tbody tr th {\n",
       "        vertical-align: top;\n",
       "    }\n",
       "\n",
       "    .dataframe thead th {\n",
       "        text-align: right;\n",
       "    }\n",
       "</style>\n",
       "<table border=\"1\" class=\"dataframe\">\n",
       "  <thead>\n",
       "    <tr style=\"text-align: right;\">\n",
       "      <th></th>\n",
       "      <th>Total Medals</th>\n",
       "    </tr>\n",
       "  </thead>\n",
       "  <tbody>\n",
       "    <tr>\n",
       "      <th>URS</th>\n",
       "      <td>294</td>\n",
       "    </tr>\n",
       "    <tr>\n",
       "      <th>USA</th>\n",
       "      <td>193</td>\n",
       "    </tr>\n",
       "    <tr>\n",
       "      <th>GDR</th>\n",
       "      <td>174</td>\n",
       "    </tr>\n",
       "    <tr>\n",
       "      <th>FRG</th>\n",
       "      <td>113</td>\n",
       "    </tr>\n",
       "    <tr>\n",
       "      <th>KOR</th>\n",
       "      <td>77</td>\n",
       "    </tr>\n",
       "    <tr>\n",
       "      <th>YUG</th>\n",
       "      <td>63</td>\n",
       "    </tr>\n",
       "    <tr>\n",
       "      <th>CHN</th>\n",
       "      <td>53</td>\n",
       "    </tr>\n",
       "    <tr>\n",
       "      <th>GBR</th>\n",
       "      <td>53</td>\n",
       "    </tr>\n",
       "    <tr>\n",
       "      <th>ROU</th>\n",
       "      <td>51</td>\n",
       "    </tr>\n",
       "    <tr>\n",
       "      <th>HUN</th>\n",
       "      <td>44</td>\n",
       "    </tr>\n",
       "  </tbody>\n",
       "</table>\n",
       "</div>"
      ],
      "text/plain": [
       "     Total Medals\n",
       "URS           294\n",
       "USA           193\n",
       "GDR           174\n",
       "FRG           113\n",
       "KOR            77\n",
       "YUG            63\n",
       "CHN            53\n",
       "GBR            53\n",
       "ROU            51\n",
       "HUN            44"
      ]
     },
     "execution_count": 105,
     "metadata": {},
     "output_type": "execute_result"
    }
   ],
   "source": [
    "Summer_1988 = summer_df.loc[summer_raw[\"Year\"] == 1988]\n",
    "\n",
    "Medals_1988 =Summer_1988[\"Country\"].value_counts()\n",
    "\n",
    "summary_1988_df = pd.DataFrame({\"Total Medals\": Medals_1988})\n",
    "summary_1988_df.head(10)"
   ]
  },
  {
   "cell_type": "code",
   "execution_count": 134,
   "id": "43dfbd4b",
   "metadata": {},
   "outputs": [
    {
     "data": {
      "text/plain": [
       "<BarContainer object of 10 artists>"
      ]
     },
     "execution_count": 134,
     "metadata": {},
     "output_type": "execute_result"
    },
    {
     "data": {
      "image/png": "[encoded data removed]",
      "text/plain": [
       "<Figure size 864x432 with 1 Axes>"
      ]
     },
     "metadata": {
      "needs_background": "light"
     },
     "output_type": "display_data"
    }
   ],
   "source": [
    "# Create an array that contains the number of medals each Country has\n",
    "Medals = [294, 193, 174, 113, 77, 63, 53, 53, 51, 44]\n",
    "x_axis = (\"RUS\", \"USA\", \"GER\", \"GERM2\", \"KOR\", \"YUG\", \"CHN\", \"GBR\", \"ROU\", \"HUN\")\n",
    "\n",
    "plt.figure(figsize = (12,6))\n",
    "\n",
    "#Adding titles to the chart\n",
    "plt.title(\"1988 SUMMER OLYMPICS - TOP TEN COUNTRIES\")\n",
    "plt.xlabel(\"COUNTRIES\")\n",
    "plt.ylabel(\"TOTAL MEDALS\")\n",
    "\n",
    "plt.bar(x_axis, Medals, color='r', alpha=0.5, align=\"center\")"
   ]
  },
  {
   "cell_type": "markdown",
   "id": "d840afe6",
   "metadata": {},
   "source": [
    "### 24. 1992 Summer Olympics"
   ]
  },
  {
   "cell_type": "code",
   "execution_count": 106,
   "id": "d09956e5",
   "metadata": {},
   "outputs": [
    {
     "data": {
      "text/html": [
       "<div>\n",
       "<style scoped>\n",
       "    .dataframe tbody tr th:only-of-type {\n",
       "        vertical-align: middle;\n",
       "    }\n",
       "\n",
       "    .dataframe tbody tr th {\n",
       "        vertical-align: top;\n",
       "    }\n",
       "\n",
       "    .dataframe thead th {\n",
       "        text-align: right;\n",
       "    }\n",
       "</style>\n",
       "<table border=\"1\" class=\"dataframe\">\n",
       "  <thead>\n",
       "    <tr style=\"text-align: right;\">\n",
       "      <th></th>\n",
       "      <th>Total Medals</th>\n",
       "    </tr>\n",
       "  </thead>\n",
       "  <tbody>\n",
       "    <tr>\n",
       "      <th>USA</th>\n",
       "      <td>224</td>\n",
       "    </tr>\n",
       "    <tr>\n",
       "      <th>EUN</th>\n",
       "      <td>223</td>\n",
       "    </tr>\n",
       "    <tr>\n",
       "      <th>GER</th>\n",
       "      <td>198</td>\n",
       "    </tr>\n",
       "    <tr>\n",
       "      <th>CHN</th>\n",
       "      <td>83</td>\n",
       "    </tr>\n",
       "    <tr>\n",
       "      <th>CUB</th>\n",
       "      <td>71</td>\n",
       "    </tr>\n",
       "    <tr>\n",
       "      <th>ESP</th>\n",
       "      <td>66</td>\n",
       "    </tr>\n",
       "    <tr>\n",
       "      <th>FRA</th>\n",
       "      <td>57</td>\n",
       "    </tr>\n",
       "    <tr>\n",
       "      <th>AUS</th>\n",
       "      <td>57</td>\n",
       "    </tr>\n",
       "    <tr>\n",
       "      <th>ROU</th>\n",
       "      <td>53</td>\n",
       "    </tr>\n",
       "    <tr>\n",
       "      <th>GBR</th>\n",
       "      <td>50</td>\n",
       "    </tr>\n",
       "  </tbody>\n",
       "</table>\n",
       "</div>"
      ],
      "text/plain": [
       "     Total Medals\n",
       "USA           224\n",
       "EUN           223\n",
       "GER           198\n",
       "CHN            83\n",
       "CUB            71\n",
       "ESP            66\n",
       "FRA            57\n",
       "AUS            57\n",
       "ROU            53\n",
       "GBR            50"
      ]
     },
     "execution_count": 106,
     "metadata": {},
     "output_type": "execute_result"
    }
   ],
   "source": [
    "Summer_1992 = summer_df.loc[summer_raw[\"Year\"] == 1992]\n",
    "\n",
    "Medals_1992 =Summer_1992[\"Country\"].value_counts()\n",
    "summary_1992_df = pd.DataFrame({\"Total Medals\": Medals_1992})\n",
    "summary_1992_df.head(10)\n"
   ]
  },
  {
   "cell_type": "code",
   "execution_count": 135,
   "id": "cb7e6ef0",
   "metadata": {},
   "outputs": [
    {
     "data": {
      "text/plain": [
       "<BarContainer object of 10 artists>"
      ]
     },
     "execution_count": 135,
     "metadata": {},
     "output_type": "execute_result"
    },
    {
     "data": {
      "image/png": "[encoded data removed]",
      "text/plain": [
       "<Figure size 864x432 with 1 Axes>"
      ]
     },
     "metadata": {
      "needs_background": "light"
     },
     "output_type": "display_data"
    }
   ],
   "source": [
    "# Create an array that contains the number of medals each Country has\n",
    "Medals = [224, 223, 198, 83, 71, 66, 57, 57, 53, 50]\n",
    "x_axis = (\"USA\", \"EUN\", \"GER\", \"CHN\", \"CUB\", \"ESP\", \"FRA\", \"AUS\", \"ROU\", \"GBR\")\n",
    "\n",
    "plt.figure(figsize = (12,6))\n",
    "\n",
    "#Adding titles to the chart\n",
    "plt.title(\"1992 SUMMER OLYMPICS - TOP TEN COUNTRIES\")\n",
    "plt.xlabel(\"COUNTRIES\")\n",
    "plt.ylabel(\"MEDALS\")\n",
    "\n",
    "plt.bar(x_axis, Medals, color='b', alpha=0.5, align=\"center\")"
   ]
  },
  {
   "cell_type": "markdown",
   "id": "5e3855c8",
   "metadata": {},
   "source": [
    "### 25. 1996 Summer Olympics"
   ]
  },
  {
   "cell_type": "code",
   "execution_count": 107,
   "id": "69a28c45",
   "metadata": {},
   "outputs": [
    {
     "data": {
      "text/html": [
       "<div>\n",
       "<style scoped>\n",
       "    .dataframe tbody tr th:only-of-type {\n",
       "        vertical-align: middle;\n",
       "    }\n",
       "\n",
       "    .dataframe tbody tr th {\n",
       "        vertical-align: top;\n",
       "    }\n",
       "\n",
       "    .dataframe thead th {\n",
       "        text-align: right;\n",
       "    }\n",
       "</style>\n",
       "<table border=\"1\" class=\"dataframe\">\n",
       "  <thead>\n",
       "    <tr style=\"text-align: right;\">\n",
       "      <th></th>\n",
       "      <th>Total Medals</th>\n",
       "    </tr>\n",
       "  </thead>\n",
       "  <tbody>\n",
       "    <tr>\n",
       "      <th>USA</th>\n",
       "      <td>260</td>\n",
       "    </tr>\n",
       "    <tr>\n",
       "      <th>AUS</th>\n",
       "      <td>132</td>\n",
       "    </tr>\n",
       "    <tr>\n",
       "      <th>GER</th>\n",
       "      <td>124</td>\n",
       "    </tr>\n",
       "    <tr>\n",
       "      <th>RUS</th>\n",
       "      <td>115</td>\n",
       "    </tr>\n",
       "    <tr>\n",
       "      <th>CHN</th>\n",
       "      <td>110</td>\n",
       "    </tr>\n",
       "    <tr>\n",
       "      <th>NED</th>\n",
       "      <td>73</td>\n",
       "    </tr>\n",
       "    <tr>\n",
       "      <th>ITA</th>\n",
       "      <td>71</td>\n",
       "    </tr>\n",
       "    <tr>\n",
       "      <th>ESP</th>\n",
       "      <td>67</td>\n",
       "    </tr>\n",
       "    <tr>\n",
       "      <th>KOR</th>\n",
       "      <td>66</td>\n",
       "    </tr>\n",
       "    <tr>\n",
       "      <th>BRA</th>\n",
       "      <td>64</td>\n",
       "    </tr>\n",
       "  </tbody>\n",
       "</table>\n",
       "</div>"
      ],
      "text/plain": [
       "     Total Medals\n",
       "USA           260\n",
       "AUS           132\n",
       "GER           124\n",
       "RUS           115\n",
       "CHN           110\n",
       "NED            73\n",
       "ITA            71\n",
       "ESP            67\n",
       "KOR            66\n",
       "BRA            64"
      ]
     },
     "execution_count": 107,
     "metadata": {},
     "output_type": "execute_result"
    }
   ],
   "source": [
    "Summer_1996 = summer_df.loc[summer_raw[\"Year\"] == 1996]\n",
    "\n",
    "Medals_1996 =Summer_1996[\"Country\"].value_counts()\n",
    "\n",
    "summary_1996_df = pd.DataFrame({\"Total Medals\": Medals_1996})\n",
    "summary_1996_df.head(10)"
   ]
  },
  {
   "cell_type": "code",
   "execution_count": 136,
   "id": "d6d57242",
   "metadata": {},
   "outputs": [
    {
     "data": {
      "text/plain": [
       "<BarContainer object of 10 artists>"
      ]
     },
     "execution_count": 136,
     "metadata": {},
     "output_type": "execute_result"
    },
    {
     "data": {
      "image/png": "[encoded data removed]",
      "text/plain": [
       "<Figure size 864x432 with 1 Axes>"
      ]
     },
     "metadata": {
      "needs_background": "light"
     },
     "output_type": "display_data"
    }
   ],
   "source": [
    "# Create an array that contains the number of medals each Country has\n",
    "Medals = [260, 132, 124, 115, 110, 73, 71, 67, 66, 64]\n",
    "x_axis = (\"USA\", \"AUS\", \"GER\", \"RUS\", \"CHN\", \"NED\", \"ITA\", \"ESP\", \"KOR\", \"BRA\")\n",
    "\n",
    "plt.figure(figsize = (12,6))\n",
    "\n",
    "#Adding titles to the chart\n",
    "plt.title(\"1996 SUMMER OLYMPICS - TOP TEN COUNTRIES\")\n",
    "plt.xlabel(\"COUNTRIES\")\n",
    "plt.ylabel(\"MEDALS\")\n",
    "\n",
    "plt.bar(x_axis, Medals, color='r', alpha=0.5, align=\"center\")"
   ]
  },
  {
   "cell_type": "markdown",
   "id": "c5a73499",
   "metadata": {},
   "source": [
    "### 26. 2000 Summer Olympics"
   ]
  },
  {
   "cell_type": "code",
   "execution_count": 108,
   "id": "c22ce305",
   "metadata": {},
   "outputs": [
    {
     "data": {
      "text/html": [
       "<div>\n",
       "<style scoped>\n",
       "    .dataframe tbody tr th:only-of-type {\n",
       "        vertical-align: middle;\n",
       "    }\n",
       "\n",
       "    .dataframe tbody tr th {\n",
       "        vertical-align: top;\n",
       "    }\n",
       "\n",
       "    .dataframe thead th {\n",
       "        text-align: right;\n",
       "    }\n",
       "</style>\n",
       "<table border=\"1\" class=\"dataframe\">\n",
       "  <thead>\n",
       "    <tr style=\"text-align: right;\">\n",
       "      <th></th>\n",
       "      <th>Total Medals</th>\n",
       "    </tr>\n",
       "  </thead>\n",
       "  <tbody>\n",
       "    <tr>\n",
       "      <th>USA</th>\n",
       "      <td>248</td>\n",
       "    </tr>\n",
       "    <tr>\n",
       "      <th>RUS</th>\n",
       "      <td>188</td>\n",
       "    </tr>\n",
       "    <tr>\n",
       "      <th>AUS</th>\n",
       "      <td>183</td>\n",
       "    </tr>\n",
       "    <tr>\n",
       "      <th>GER</th>\n",
       "      <td>119</td>\n",
       "    </tr>\n",
       "    <tr>\n",
       "      <th>NED</th>\n",
       "      <td>79</td>\n",
       "    </tr>\n",
       "    <tr>\n",
       "      <th>CHN</th>\n",
       "      <td>79</td>\n",
       "    </tr>\n",
       "    <tr>\n",
       "      <th>KOR</th>\n",
       "      <td>73</td>\n",
       "    </tr>\n",
       "    <tr>\n",
       "      <th>CUB</th>\n",
       "      <td>69</td>\n",
       "    </tr>\n",
       "    <tr>\n",
       "      <th>FRA</th>\n",
       "      <td>66</td>\n",
       "    </tr>\n",
       "    <tr>\n",
       "      <th>ITA</th>\n",
       "      <td>65</td>\n",
       "    </tr>\n",
       "  </tbody>\n",
       "</table>\n",
       "</div>"
      ],
      "text/plain": [
       "     Total Medals\n",
       "USA           248\n",
       "RUS           188\n",
       "AUS           183\n",
       "GER           119\n",
       "NED            79\n",
       "CHN            79\n",
       "KOR            73\n",
       "CUB            69\n",
       "FRA            66\n",
       "ITA            65"
      ]
     },
     "execution_count": 108,
     "metadata": {},
     "output_type": "execute_result"
    }
   ],
   "source": [
    "Summer_2000 = summer_df.loc[summer_raw[\"Year\"] == 2000]\n",
    "\n",
    "Medals_2000 =Summer_2000[\"Country\"].value_counts()\n",
    "\n",
    "summary_2000_df = pd.DataFrame({\"Total Medals\": Medals_2000})\n",
    "summary_2000_df.head(10)"
   ]
  },
  {
   "cell_type": "code",
   "execution_count": 137,
   "id": "704819b1",
   "metadata": {},
   "outputs": [
    {
     "data": {
      "text/plain": [
       "<BarContainer object of 10 artists>"
      ]
     },
     "execution_count": 137,
     "metadata": {},
     "output_type": "execute_result"
    },
    {
     "data": {
      "image/png": "[encoded data removed]",
      "text/plain": [
       "<Figure size 864x432 with 1 Axes>"
      ]
     },
     "metadata": {
      "needs_background": "light"
     },
     "output_type": "display_data"
    }
   ],
   "source": [
    "# Create an array that contains the number of medals each Country has\n",
    "Medals = [248, 188, 183, 119, 79, 79, 73, 69, 66, 65]\n",
    "x_axis = (\"USA\", \"RUS\", \"AUS\", \"GER\", \"NED\", \"CHN\", \"KOR\", \"CUB\", \"FRA\", \"ITA\")\n",
    "\n",
    "plt.figure(figsize = (12,6))\n",
    "\n",
    "#Adding titles to the chart\n",
    "plt.title(\"2004 SUMMER OLYMPICS - TOP TEN COUNTRIES\")\n",
    "plt.xlabel(\"COUNTRIES\")\n",
    "plt.ylabel(\"MEDALS\")\n",
    "\n",
    "plt.bar(x_axis, Medals, color='b', alpha=0.5, align=\"center\")"
   ]
  },
  {
   "cell_type": "markdown",
   "id": "949f1fb8",
   "metadata": {},
   "source": [
    "### 27. 2004 Summer Olympics"
   ]
  },
  {
   "cell_type": "code",
   "execution_count": 51,
   "id": "cf64c38c",
   "metadata": {},
   "outputs": [
    {
     "data": {
      "text/html": [
       "<div>\n",
       "<style scoped>\n",
       "    .dataframe tbody tr th:only-of-type {\n",
       "        vertical-align: middle;\n",
       "    }\n",
       "\n",
       "    .dataframe tbody tr th {\n",
       "        vertical-align: top;\n",
       "    }\n",
       "\n",
       "    .dataframe thead th {\n",
       "        text-align: right;\n",
       "    }\n",
       "</style>\n",
       "<table border=\"1\" class=\"dataframe\">\n",
       "  <thead>\n",
       "    <tr style=\"text-align: right;\">\n",
       "      <th></th>\n",
       "      <th>Total Medals</th>\n",
       "    </tr>\n",
       "  </thead>\n",
       "  <tbody>\n",
       "    <tr>\n",
       "      <th>USA</th>\n",
       "      <td>264</td>\n",
       "    </tr>\n",
       "    <tr>\n",
       "      <th>RUS</th>\n",
       "      <td>192</td>\n",
       "    </tr>\n",
       "    <tr>\n",
       "      <th>AUS</th>\n",
       "      <td>157</td>\n",
       "    </tr>\n",
       "    <tr>\n",
       "      <th>GER</th>\n",
       "      <td>149</td>\n",
       "    </tr>\n",
       "    <tr>\n",
       "      <th>ITA</th>\n",
       "      <td>102</td>\n",
       "    </tr>\n",
       "    <tr>\n",
       "      <th>CHN</th>\n",
       "      <td>94</td>\n",
       "    </tr>\n",
       "    <tr>\n",
       "      <th>JPN</th>\n",
       "      <td>94</td>\n",
       "    </tr>\n",
       "    <tr>\n",
       "      <th>NED</th>\n",
       "      <td>76</td>\n",
       "    </tr>\n",
       "    <tr>\n",
       "      <th>CUB</th>\n",
       "      <td>61</td>\n",
       "    </tr>\n",
       "    <tr>\n",
       "      <th>GBR</th>\n",
       "      <td>57</td>\n",
       "    </tr>\n",
       "  </tbody>\n",
       "</table>\n",
       "</div>"
      ],
      "text/plain": [
       "     Total Medals\n",
       "USA           264\n",
       "RUS           192\n",
       "AUS           157\n",
       "GER           149\n",
       "ITA           102\n",
       "CHN            94\n",
       "JPN            94\n",
       "NED            76\n",
       "CUB            61\n",
       "GBR            57"
      ]
     },
     "execution_count": 51,
     "metadata": {},
     "output_type": "execute_result"
    }
   ],
   "source": [
    "Summer_2004 = summer_df.loc[summer_raw[\"Year\"] == 2004]\n",
    "\n",
    "Medals_2004 =Summer_2004[\"Country\"].value_counts()\n",
    "\n",
    "summary_2004_df = pd.DataFrame({\"Total Medals\": Medals_2004})\n",
    "summary_2004_df.head(10)"
   ]
  },
  {
   "cell_type": "code",
   "execution_count": 138,
   "id": "41fe8dcb",
   "metadata": {},
   "outputs": [
    {
     "data": {
      "text/plain": [
       "<BarContainer object of 10 artists>"
      ]
     },
     "execution_count": 138,
     "metadata": {},
     "output_type": "execute_result"
    },
    {
     "data": {
      "image/png": "[encoded data removed]",
      "text/plain": [
       "<Figure size 864x432 with 1 Axes>"
      ]
     },
     "metadata": {
      "needs_background": "light"
     },
     "output_type": "display_data"
    }
   ],
   "source": [
    "# Create an array that contains the number of medals each Country has\n",
    "Medals = [264, 192, 157, 149, 102, 94, 94, 76, 61, 57]\n",
    "x_axis = (\"USA\", \"RUS\", \"AUS\", \"GER\", \"ITA\", \"CHN\", \"JAP\", \"NED\", \"CUB\", \"GBR\")\n",
    "\n",
    "plt.figure(figsize = (12,6))\n",
    "\n",
    "#Adding titles to the chart\n",
    "plt.title(\"2004 SUMMER OLYMPICS - TOP TEN COUNTRIES\")\n",
    "plt.xlabel(\"COUNTRIES\")\n",
    "plt.ylabel(\"MEDALS\")\n",
    "\n",
    "plt.bar(x_axis, Medals, color='r', alpha=0.5, align=\"center\")"
   ]
  },
  {
   "cell_type": "markdown",
   "id": "6ebf9a38",
   "metadata": {},
   "source": [
    "### 28. 2008 Summer Olympics"
   ]
  },
  {
   "cell_type": "code",
   "execution_count": 118,
   "id": "3f2b8a34",
   "metadata": {},
   "outputs": [
    {
     "data": {
      "text/html": [
       "<div>\n",
       "<style scoped>\n",
       "    .dataframe tbody tr th:only-of-type {\n",
       "        vertical-align: middle;\n",
       "    }\n",
       "\n",
       "    .dataframe tbody tr th {\n",
       "        vertical-align: top;\n",
       "    }\n",
       "\n",
       "    .dataframe thead th {\n",
       "        text-align: right;\n",
       "    }\n",
       "</style>\n",
       "<table border=\"1\" class=\"dataframe\">\n",
       "  <thead>\n",
       "    <tr style=\"text-align: right;\">\n",
       "      <th></th>\n",
       "      <th>Total Medals</th>\n",
       "    </tr>\n",
       "  </thead>\n",
       "  <tbody>\n",
       "    <tr>\n",
       "      <th>USA</th>\n",
       "      <td>315</td>\n",
       "    </tr>\n",
       "    <tr>\n",
       "      <th>CHN</th>\n",
       "      <td>184</td>\n",
       "    </tr>\n",
       "    <tr>\n",
       "      <th>AUS</th>\n",
       "      <td>149</td>\n",
       "    </tr>\n",
       "    <tr>\n",
       "      <th>RUS</th>\n",
       "      <td>143</td>\n",
       "    </tr>\n",
       "    <tr>\n",
       "      <th>GER</th>\n",
       "      <td>101</td>\n",
       "    </tr>\n",
       "    <tr>\n",
       "      <th>KOR</th>\n",
       "      <td>78</td>\n",
       "    </tr>\n",
       "    <tr>\n",
       "      <th>GBR</th>\n",
       "      <td>77</td>\n",
       "    </tr>\n",
       "    <tr>\n",
       "      <th>FRA</th>\n",
       "      <td>76</td>\n",
       "    </tr>\n",
       "    <tr>\n",
       "      <th>BRA</th>\n",
       "      <td>75</td>\n",
       "    </tr>\n",
       "    <tr>\n",
       "      <th>ESP</th>\n",
       "      <td>71</td>\n",
       "    </tr>\n",
       "  </tbody>\n",
       "</table>\n",
       "</div>"
      ],
      "text/plain": [
       "     Total Medals\n",
       "USA           315\n",
       "CHN           184\n",
       "AUS           149\n",
       "RUS           143\n",
       "GER           101\n",
       "KOR            78\n",
       "GBR            77\n",
       "FRA            76\n",
       "BRA            75\n",
       "ESP            71"
      ]
     },
     "execution_count": 118,
     "metadata": {},
     "output_type": "execute_result"
    }
   ],
   "source": [
    "Summer_2008 = summer_df.loc[summer_raw[\"Year\"] == 2008]\n",
    "\n",
    "Medals_2008 =Summer_2008[\"Country\"].value_counts()\n",
    "\n",
    "\n",
    "summary_2008_df = pd.DataFrame({\"Total Medals\": Medals_2008})\n",
    "summary_2008_df.head(10)"
   ]
  },
  {
   "cell_type": "code",
   "execution_count": 114,
   "id": "ada88085",
   "metadata": {},
   "outputs": [
    {
     "data": {
      "text/plain": [
       "<BarContainer object of 10 artists>"
      ]
     },
     "execution_count": 114,
     "metadata": {},
     "output_type": "execute_result"
    },
    {
     "data": {
      "image/png": "[encoded data removed]",
      "text/plain": [
       "<Figure size 864x432 with 1 Axes>"
      ]
     },
     "metadata": {
      "needs_background": "light"
     },
     "output_type": "display_data"
    }
   ],
   "source": [
    "# Create an array that contains the number of medals each Country has\n",
    "Medals = [315, 184, 149, 143, 101, 78, 77, 76, 75, 71]\n",
    "x_axis = (\"USA\", \"CHN\", \"AUS\", \"RUS\", \"GER\", \"KOR\", \"GBR\", \"FRA\", \"BRA\", \"ESP\")\n",
    "\n",
    "plt.figure(figsize = (12,6))\n",
    "\n",
    "#Adding titles to the chart\n",
    "plt.title(\"2008 SUMMER OLYMPICS - TOP TEN COUNTRIES\")\n",
    "plt.xlabel(\"COUNTRIES\")\n",
    "plt.ylabel(\"MEDALS\")\n",
    "\n",
    "plt.bar(x_axis, Medals, color='b', alpha=0.5, align=\"center\")"
   ]
  },
  {
   "cell_type": "markdown",
   "id": "c08d4676",
   "metadata": {},
   "source": [
    "### 29. 2012 Summer Olympics"
   ]
  },
  {
   "cell_type": "code",
   "execution_count": 119,
   "id": "16a13be9",
   "metadata": {},
   "outputs": [
    {
     "data": {
      "text/html": [
       "<div>\n",
       "<style scoped>\n",
       "    .dataframe tbody tr th:only-of-type {\n",
       "        vertical-align: middle;\n",
       "    }\n",
       "\n",
       "    .dataframe tbody tr th {\n",
       "        vertical-align: top;\n",
       "    }\n",
       "\n",
       "    .dataframe thead th {\n",
       "        text-align: right;\n",
       "    }\n",
       "</style>\n",
       "<table border=\"1\" class=\"dataframe\">\n",
       "  <thead>\n",
       "    <tr style=\"text-align: right;\">\n",
       "      <th></th>\n",
       "      <th>Total Medals</th>\n",
       "    </tr>\n",
       "  </thead>\n",
       "  <tbody>\n",
       "    <tr>\n",
       "      <th>USA</th>\n",
       "      <td>250</td>\n",
       "    </tr>\n",
       "    <tr>\n",
       "      <th>RUS</th>\n",
       "      <td>130</td>\n",
       "    </tr>\n",
       "    <tr>\n",
       "      <th>CHN</th>\n",
       "      <td>128</td>\n",
       "    </tr>\n",
       "    <tr>\n",
       "      <th>GBR</th>\n",
       "      <td>126</td>\n",
       "    </tr>\n",
       "    <tr>\n",
       "      <th>AUS</th>\n",
       "      <td>114</td>\n",
       "    </tr>\n",
       "    <tr>\n",
       "      <th>GER</th>\n",
       "      <td>94</td>\n",
       "    </tr>\n",
       "    <tr>\n",
       "      <th>JPN</th>\n",
       "      <td>84</td>\n",
       "    </tr>\n",
       "    <tr>\n",
       "      <th>FRA</th>\n",
       "      <td>82</td>\n",
       "    </tr>\n",
       "    <tr>\n",
       "      <th>NED</th>\n",
       "      <td>69</td>\n",
       "    </tr>\n",
       "    <tr>\n",
       "      <th>ITA</th>\n",
       "      <td>68</td>\n",
       "    </tr>\n",
       "  </tbody>\n",
       "</table>\n",
       "</div>"
      ],
      "text/plain": [
       "     Total Medals\n",
       "USA           250\n",
       "RUS           130\n",
       "CHN           128\n",
       "GBR           126\n",
       "AUS           114\n",
       "GER            94\n",
       "JPN            84\n",
       "FRA            82\n",
       "NED            69\n",
       "ITA            68"
      ]
     },
     "execution_count": 119,
     "metadata": {},
     "output_type": "execute_result"
    }
   ],
   "source": [
    "Summer_2012 = summer_df.loc[summer_raw[\"Year\"] == 2012]\n",
    "\n",
    "Medals_2012 =Summer_2012[\"Country\"].value_counts()\n",
    "\n",
    "summary_2012_df = pd.DataFrame({\"Total Medals\": Medals_2012})\n",
    "summary_2012_df.head(10)"
   ]
  },
  {
   "cell_type": "code",
   "execution_count": 113,
   "id": "bb05c96e",
   "metadata": {},
   "outputs": [
    {
     "data": {
      "text/plain": [
       "<BarContainer object of 10 artists>"
      ]
     },
     "execution_count": 113,
     "metadata": {},
     "output_type": "execute_result"
    },
    {
     "data": {
      "image/png": "[encoded data removed]",
      "text/plain": [
       "<Figure size 864x432 with 1 Axes>"
      ]
     },
     "metadata": {
      "needs_background": "light"
     },
     "output_type": "display_data"
    }
   ],
   "source": [
    "# Create an array that contains the number of medals each Country has\n",
    "Medals = [250, 130, 128, 126, 114, 95, 84, 82, 69, 68]\n",
    "x_axis = (\"USA\", \"RUS\",\"CHN\" ,\"GBR\", \"AUS\", \"GER\", \"JPN\", \"FRA\", \"NED\", \"ITA\")\n",
    "\n",
    "plt.figure(figsize = (12,6))\n",
    "\n",
    "#Adding titles to the chart\n",
    "plt.title(\"2012 SUMMER OLYMPICS - TOP TEN COUNTRIES\")\n",
    "plt.xlabel(\"COUNTRIES\")\n",
    "plt.ylabel(\"MEDALS\")\n",
    "\n",
    "\n",
    "\n",
    "plt.bar(x_axis, Medals, color='r', alpha=0.5, align=\"center\")"
   ]
  },
  {
   "cell_type": "markdown",
   "id": "244ef855",
   "metadata": {},
   "source": [
    "### 30. Plotting data"
   ]
  },
  {
   "cell_type": "code",
   "execution_count": 2,
   "id": "fd57c699",
   "metadata": {},
   "outputs": [],
   "source": [
    "# Countries and Total Medals since 1896 \n",
    "GBR = [7, 78, 2, 347, 160, 107, 66, 55, 34, 36, 107, 31, 45, 28, 0, 0, 29, 32, 45, 72, 53, 50, 0, 0, 57, 77, 126]\n",
    "CHINA =[0, 0, 0, 0, 0, 0, 0, 0, 0, 0, 0, 0, 0, 0, 0, 0, 0, 0, 0, 76, 53, 83, 110, 79, 94, 184, 128]\n",
    "JAPAN = [0, 0, 0, 0, 0, 0, 0, 0, 0, 0, 0, 117, 169, 169, 174, 188, 211, 285, 442, 106, 294, 53, 0, 188, 192, 143, 130]\n",
    "RUSSIA = [0, 0, 0, 0, 0, 0, 0, 0, 0, 0, 0, 117, 169, 169, 174, 188, 211, 285, 442, 106, 294, 53, 0, 188, 192, 143, 130]\n",
    "GREECE= [52, 0, 0, 0, 0, 0, 0, 0, 0, 0, 0, 0, 0, 0, 0, 0, 0, 0, 0, 0, 0, 0, 0, 0, 0, 0, 0 ]\n",
    "GERMANY= [0, 0, 0, 0, 0, 0, 0, 0, 0, 0, 0, 117, 169, 169, 174, 188, 211, 285, 442, 106, 294, 53, 0, 188, 192, 143, 130]\n",
    "FRANCE = [0, 0, 0, 0, 0, 0, 0, 0, 0, 0, 0, 117, 169, 169, 174, 188, 211, 285, 442, 106, 294, 53, 0, 188, 192, 143, 130]\n",
    "ITALY= [0, 0, 0, 0, 0, 0, 0, 0, 0, 0, 0, 117, 169, 169, 174, 188, 211, 285, 442, 106, 294, 53, 0, 188, 192, 143, 130]\n",
    "\n"
   ]
  },
  {
   "cell_type": "code",
   "execution_count": 3,
   "id": "19c379ec",
   "metadata": {},
   "outputs": [
    {
     "data": {
      "image/png": "[encoded data removed]",
      "text/plain": [
       "<Figure size 1008x504 with 1 Axes>"
      ]
     },
     "metadata": {
      "needs_background": "light"
     },
     "output_type": "display_data"
    }
   ],
   "source": [
    "# Set x axis to numerical value for years\n",
    "# Team USA\n",
    "x_axis_data = [1896, 1900, 1904, 1908, 1912, 1920, 1924, 1928, 1932, 1936, 1948, 1952, 1956, 1960, \n",
    "               1964, 1968, 1972, 1976, 1980, 1984, 1988, 1992, 1996, 2000, 2004, 2008, 2012]\n",
    "# Medals \n",
    "USA = [20, 55, 394, 63, 101, 193, 198, 84, 181, 92, 193, 130, 118, 112, 150, 149, 155, 155, 0,\n",
    "         333, 193, 224, 260, 248, 264, 315, 250]\n",
    "\n",
    "\n",
    "plt.figure(figsize = (14,7))\n",
    "plt.title(\"TOP 5 CHANGES OVER THE YEARS\")\n",
    "plt.xlabel(\"Olympic Years\")\n",
    "plt.ylabel(\"Total Medals Count\")\n",
    "\n",
    "plt.ylim(0,500)\n",
    "\n",
    "# Plot the line\n",
    "plt.plot(x_axis_data, USA, marker ='o', color='blue', label=\"USA\")\n",
    "plt.plot(x_axis_data, GBR, marker ='o', color='red', label=\"GBR\")\n",
    "plt.plot(x_axis_data, RUSSIA, marker ='o', color='black', label=\"RUS\")\n",
    "plt.plot(x_axis_data, CHINA, marker ='o', color='green', label=\"CHN\")\n",
    "plt.plot(x_axis_data, GREECE, marker ='o', color='yellow', label=\"GRE\")\n",
    "\n",
    "plt.legend()\n",
    "\n",
    "plt.show()\n",
    "\n"
   ]
  },
  {
   "cell_type": "markdown",
   "id": "0cda25da",
   "metadata": {},
   "source": [
    "## 31. Statistical analysis"
   ]
  },
  {
   "cell_type": "code",
   "execution_count": 10,
   "id": "67dd9fee",
   "metadata": {},
   "outputs": [],
   "source": [
    "import scipy.stats as st\n",
    "CHINAn =[76, 53, 83, 110, 79, 94, 184, 128]\n",
    "RUSSIAn = [117, 169, 169, 174, 188, 211, 285, 442, 106, 294, 53, 0, 188, 192, 143, 130]\n",
    "CHINA_x = [1984, 1988, 1992, 1996, 2000, 2004, 2008, 2012]\n",
    "RUSSIA_x = [1952, 1956, 1960, \n",
    "               1964, 1968, 1972, 1976, 1980, 1984, 1988, 1992, 1996, 2000, 2004, 2008, 2012]\n",
    "\n",
    "USA_Corr, USA_p = st.pearsonr(USA, x_axis_data)\n",
    "GBR_Corr, GBR_p = st.pearsonr(GBR, x_axis_data)\n",
    "RUS_Corr, RUS_p = st.pearsonr(RUSSIA, x_axis_data)\n",
    "CHN_Corr, CHN_p = st.pearsonr(CHINA, x_axis_data)\n",
    "GRE_Corr, GRE_p = st.pearsonr(GREECE, x_axis_data)\n",
    "CHNn_Corr, CHNn_p = st.pearsonr(CHINAn, CHINA_x)\n",
    "RUSn_Corr, RUSn_p = st.pearsonr(RUSSIAn, RUSSIA_x)"
   ]
  },
  {
   "cell_type": "code",
   "execution_count": 12,
   "id": "3c69df02",
   "metadata": {},
   "outputs": [
    {
     "data": {
      "text/html": [
       "<div>\n",
       "<style scoped>\n",
       "    .dataframe tbody tr th:only-of-type {\n",
       "        vertical-align: middle;\n",
       "    }\n",
       "\n",
       "    .dataframe tbody tr th {\n",
       "        vertical-align: top;\n",
       "    }\n",
       "\n",
       "    .dataframe thead th {\n",
       "        text-align: right;\n",
       "    }\n",
       "</style>\n",
       "<table border=\"1\" class=\"dataframe\">\n",
       "  <thead>\n",
       "    <tr style=\"text-align: right;\">\n",
       "      <th></th>\n",
       "      <th>Country</th>\n",
       "      <th>Correlation</th>\n",
       "      <th>P value</th>\n",
       "    </tr>\n",
       "  </thead>\n",
       "  <tbody>\n",
       "    <tr>\n",
       "      <th>0</th>\n",
       "      <td>USA</td>\n",
       "      <td>0.440101</td>\n",
       "      <td>0.021602</td>\n",
       "    </tr>\n",
       "    <tr>\n",
       "      <th>1</th>\n",
       "      <td>UK</td>\n",
       "      <td>-0.264854</td>\n",
       "      <td>0.181847</td>\n",
       "    </tr>\n",
       "    <tr>\n",
       "      <th>2</th>\n",
       "      <td>USSR/Russia</td>\n",
       "      <td>0.620794</td>\n",
       "      <td>0.000550</td>\n",
       "    </tr>\n",
       "    <tr>\n",
       "      <th>3</th>\n",
       "      <td>China</td>\n",
       "      <td>0.737385</td>\n",
       "      <td>0.000011</td>\n",
       "    </tr>\n",
       "    <tr>\n",
       "      <th>4</th>\n",
       "      <td>Greece</td>\n",
       "      <td>-0.332852</td>\n",
       "      <td>0.089796</td>\n",
       "    </tr>\n",
       "    <tr>\n",
       "      <th>5</th>\n",
       "      <td>China 1984-</td>\n",
       "      <td>0.735035</td>\n",
       "      <td>0.037754</td>\n",
       "    </tr>\n",
       "    <tr>\n",
       "      <th>6</th>\n",
       "      <td>Russia 1952-</td>\n",
       "      <td>-0.149600</td>\n",
       "      <td>0.580273</td>\n",
       "    </tr>\n",
       "  </tbody>\n",
       "</table>\n",
       "</div>"
      ],
      "text/plain": [
       "        Country  Correlation   P value\n",
       "0           USA     0.440101  0.021602\n",
       "1            UK    -0.264854  0.181847\n",
       "2   USSR/Russia     0.620794  0.000550\n",
       "3         China     0.737385  0.000011\n",
       "4        Greece    -0.332852  0.089796\n",
       "5   China 1984-     0.735035  0.037754\n",
       "6  Russia 1952-    -0.149600  0.580273"
      ]
     },
     "execution_count": 12,
     "metadata": {},
     "output_type": "execute_result"
    }
   ],
   "source": [
    "corr_df = pd.DataFrame({\n",
    "    \"Country\": [\"USA\", \"UK\", \"USSR/Russia\", \"China\", \"Greece\", \"China 1984-\", \"Russia 1952-\"],\n",
    "    \"Correlation\": [USA_Corr, GBR_Corr, RUS_Corr, CHN_Corr, GRE_Corr, CHNn_Corr, RUSn_Corr],\n",
    "    \"P value\": [USA_p, GBR_p, RUS_p, CHN_p, GRE_p, CHNn_p, RUSn_p]\n",
    "})\n",
    "corr_df"
   ]
  }
 ],
 "metadata": {
  "kernelspec": {
   "display_name": "Python 3",
   "language": "python",
   "name": "python3"
  },
  "language_info": {
   "codemirror_mode": {
    "name": "ipython",
    "version": 3
   },
   "file_extension": ".py",
   "mimetype": "text/x-python",
   "name": "python",
   "nbconvert_exporter": "python",
   "pygments_lexer": "ipython3",
   "version": "3.8.8"
  }
 },
 "nbformat": 4,
 "nbformat_minor": 5
}
